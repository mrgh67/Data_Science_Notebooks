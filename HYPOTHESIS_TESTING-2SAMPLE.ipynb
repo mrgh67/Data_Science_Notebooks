{
 "metadata": {
  "name": "",
  "signature": "sha256:22530a2015ab604e57996e37b43e2b7cc3d641440be96c49036a9d389a0e527f"
 },
 "nbformat": 3,
 "nbformat_minor": 0,
 "worksheets": [
  {
   "cells": [
    {
     "cell_type": "code",
     "collapsed": false,
     "input": [
      "from scipy.stats import norm, bernoulli, ttest_ind\n",
      "import numpy as np\n",
      "import matplotlib.pyplot as plt\n",
      "%matplotlib inline"
     ],
     "language": "python",
     "metadata": {},
     "outputs": [],
     "prompt_number": 64
    },
    {
     "cell_type": "markdown",
     "metadata": {},
     "source": [
      "##Have the following independent random variables: $X, Y, Z, A$"
     ]
    },
    {
     "cell_type": "markdown",
     "metadata": {},
     "source": [
      "##$\\mathop{\\mathbb{E}}[X] = \\mu_{X}$"
     ]
    },
    {
     "cell_type": "markdown",
     "metadata": {},
     "source": [
      "##$\\mathop{\\mathbb{E}}[Y] = \\mu_{Y}$"
     ]
    },
    {
     "cell_type": "markdown",
     "metadata": {},
     "source": [
      "##$Var(X) = \\mathop{\\mathbb{E}}[(X-\\mu_{X})^{2}] = \\sigma^{2}_{X}$"
     ]
    },
    {
     "cell_type": "markdown",
     "metadata": {},
     "source": [
      "##$Var(Y) = \\mathop{\\mathbb{E}}[(Y-\\mu_{Y})^{2}] = \\sigma^{2}_{Y}$"
     ]
    },
    {
     "cell_type": "markdown",
     "metadata": {},
     "source": [
      "##$\\text{if } Z = X + Y \\text{ then }\\mathop{\\mathbb{E}}[Z] = \\mathop{\\mathbb{E}}[X] + \\mathop{\\mathbb{E}}[Y] \\text{ or } \\mu_{Z} = \\mu_{X} + \\mu_{Y}$"
     ]
    },
    {
     "cell_type": "markdown",
     "metadata": {},
     "source": [
      "##$\\text{if } A = X - Y \\text{ then }\\mathop{\\mathbb{E}}[A] = \\mathop{\\mathbb{E}}[X] - \\mathop{\\mathbb{E}}[Y] \\text{ or } \\mu_{Z} = \\mu_{X} - \\mu_{Y}$"
     ]
    },
    {
     "cell_type": "markdown",
     "metadata": {},
     "source": [
      "##$Var(Z) = Var(X) + Var(Y) \\text { or } \\sigma^{2}_{Z} = \\sigma^{2}_{X+Y} \\sigma^{2}_{X} + \\sigma^{2}_{Y}$"
     ]
    },
    {
     "cell_type": "markdown",
     "metadata": {},
     "source": [
      "##$Var(A) = Var(X) + Var(-Y) \\text { or } \\sigma^{2}_{A} = \\sigma^{2}_{X-Y} = \\sigma^{2}_{X} + \\sigma^{2}_{-Y} =  \\sigma^{2}_{X} + \\sigma^{2}_{Y} \\text{ because } \\sigma^{2}_{-Y} = \\sigma^{2}_{Y}$"
     ]
    },
    {
     "cell_type": "markdown",
     "metadata": {},
     "source": [
      "##$\\text{Consider now the sampling distributions of }\\overline{X} \\text{ with sample size } N $"
     ]
    },
    {
     "cell_type": "markdown",
     "metadata": {},
     "source": [
      "##$\\mu_{\\overline{X}} = \\mu_{X} \\text{    and    } \\sigma^{2}_{\\overline{X}} = \\frac{\\sigma^{2}_{X}}{N}$"
     ]
    },
    {
     "cell_type": "markdown",
     "metadata": {},
     "source": [
      "##$\\text{Consider now the sampling distributions of }\\overline{Y} \\text{ with sample size } M $"
     ]
    },
    {
     "cell_type": "markdown",
     "metadata": {},
     "source": [
      "##$\\mu_{\\overline{Y}} = \\mu_{Y} \\text{    and    } \\sigma^{2}_{\\overline{Y}} = \\frac{\\sigma^{2}_{Y}}{M}$"
     ]
    },
    {
     "cell_type": "markdown",
     "metadata": {},
     "source": [
      "##Remember \"standard error\" refers to standard deviation (not variance)"
     ]
    },
    {
     "cell_type": "markdown",
     "metadata": {},
     "source": [
      "##$\\text{Let }Z = \\overline{X} - \\overline{Y}$ "
     ]
    },
    {
     "cell_type": "markdown",
     "metadata": {},
     "source": [
      "##$\\mu_{\\overline{X}-\\overline{Y}} = \\mu_{\\overline{X}} - \\mu_{\\overline{Y}}$"
     ]
    },
    {
     "cell_type": "markdown",
     "metadata": {},
     "source": [
      "##$\\sigma^{2}_{\\overline{X}-\\overline{Y}} = \\sigma^{2}_{\\overline{X}} + \\sigma^{2}_{\\overline{Y}} \\text {  the variance of this distribution will be larger}$"
     ]
    },
    {
     "cell_type": "markdown",
     "metadata": {},
     "source": [
      "##$\\Rightarrow \\sigma^{2}_{\\overline{X}-\\overline{Y}} = \\frac{\\sigma^{2}_{X}}{N} + \\frac{\\sigma^{2}_{Y}}{M}$"
     ]
    },
    {
     "cell_type": "markdown",
     "metadata": {},
     "source": [
      "##Example"
     ]
    },
    {
     "cell_type": "code",
     "collapsed": false,
     "input": [
      "meanx1 = 9.31\n",
      "samplesd1 = 4.67\n",
      "meanx2 = 7.40\n",
      "samplesd2 = 4.04"
     ],
     "language": "python",
     "metadata": {},
     "outputs": [],
     "prompt_number": 41
    },
    {
     "cell_type": "code",
     "collapsed": false,
     "input": [
      "meandiff = meanx1 - meanx2\n",
      "print meandiff"
     ],
     "language": "python",
     "metadata": {},
     "outputs": [
      {
       "output_type": "stream",
       "stream": "stdout",
       "text": [
        "1.91\n"
       ]
      }
     ],
     "prompt_number": 6
    },
    {
     "cell_type": "markdown",
     "metadata": {},
     "source": [
      "##The distribution of the difference-of-the-means\n",
      "\n",
      "##$\\mu_{diff} \\text{ and } \\sigma_{diff}$"
     ]
    },
    {
     "cell_type": "code",
     "collapsed": false,
     "input": [
      "ci_limit = 95.0\n",
      "ci_limit /= 100.\n",
      "ci_limit += (1.0 - ci_limit)/2.\n",
      "print ci_limit\n",
      "criticalzvalue = norm.ppf(ci_limit)\n",
      "print \"number of standard deviations from the mean is %0.2f\"% (criticalzvalue)"
     ],
     "language": "python",
     "metadata": {},
     "outputs": [
      {
       "output_type": "stream",
       "stream": "stdout",
       "text": [
        "0.975\n",
        "number of standard deviations from the mean is 1.96\n"
       ]
      }
     ],
     "prompt_number": 30
    },
    {
     "cell_type": "markdown",
     "metadata": {},
     "source": [
      "##$95\\% \\text { chance that } 1.91 \\text{ is within } 1.96 \\times \\sigma_{diff} \\text{ of the } \\mu_{diff}$"
     ]
    },
    {
     "cell_type": "markdown",
     "metadata": {},
     "source": [
      "##$\\text{or  } 95\\% \\text { chance that } \\mu_{diff} \\text{ is within } 1.96 \\times \\sigma_{diff} \\text{ of } 1.91 $"
     ]
    },
    {
     "cell_type": "markdown",
     "metadata": {},
     "source": [
      "##do not know the population variances - have to use the sample variances"
     ]
    },
    {
     "cell_type": "code",
     "collapsed": false,
     "input": [
      "vardiff1 = (np.power(samplesd1,2))/100.0\n",
      "vardiff2 = (np.power(samplesd2,2))/100.0\n",
      "print \"vardiff1 = %0.2f, vardif2 = %0.2f \"% (vardiff1, vardiff2)"
     ],
     "language": "python",
     "metadata": {},
     "outputs": [
      {
       "output_type": "stream",
       "stream": "stdout",
       "text": [
        "vardiff1 = 0.22, vardif2 = 0.16 \n"
       ]
      }
     ],
     "prompt_number": 43
    },
    {
     "cell_type": "code",
     "collapsed": false,
     "input": [
      "vardiff = vardiff1 + vardiff2\n",
      "print \"vardiff is %0.2f\"% (vardiff)\n",
      "sddiff = np.sqrt(vardiff)\n",
      "print \"sddiff is %0.2f\"% sddiff"
     ],
     "language": "python",
     "metadata": {},
     "outputs": [
      {
       "output_type": "stream",
       "stream": "stdout",
       "text": [
        "vardiff is 0.38\n",
        "sddiff is 0.62\n"
       ]
      }
     ],
     "prompt_number": 57
    },
    {
     "cell_type": "code",
     "collapsed": false,
     "input": [
      "amount = criticalzvalue * sddiff\n",
      "print \"amount is %0.2f\"% amount"
     ],
     "language": "python",
     "metadata": {},
     "outputs": [
      {
       "output_type": "stream",
       "stream": "stdout",
       "text": [
        "amount is 1.21\n"
       ]
      }
     ],
     "prompt_number": 45
    },
    {
     "cell_type": "code",
     "collapsed": false,
     "input": [
      "confintervallowerlimit = meandiff - amount\n",
      "confintervalupperlimit = meandiff + amount\n",
      "print \"95%% confidence interval is %0.2f to %0.2f\"% (confintervallowerlimit, confintervalupperlimit)"
     ],
     "language": "python",
     "metadata": {},
     "outputs": [
      {
       "output_type": "stream",
       "stream": "stdout",
       "text": [
        "95% confidence interval is 0.70 to 3.12\n"
       ]
      }
     ],
     "prompt_number": 51
    },
    {
     "cell_type": "markdown",
     "metadata": {},
     "source": [
      "##95% confidence interval for the mean of the difference is 1.91 plus or minus 1.21, and this means a 95% confidence interval for the difference of the true population means"
     ]
    },
    {
     "cell_type": "markdown",
     "metadata": {},
     "source": [
      "##$H_{0}: \\mu_{1}-\\mu_{2} = 0$\n",
      "\n",
      "##$H_{1}: \\mu_{1} - \\mu_{2} \\gt 0$"
     ]
    },
    {
     "cell_type": "markdown",
     "metadata": {},
     "source": [
      "##$\\mu_{1}-\\mu_{2} = 0 \\Rightarrow \\mu_{\\overline{X}} - \\mu_{\\overline{Y}} = 0 \\Rightarrow \\mu_{diff} = 0 $"
     ]
    },
    {
     "cell_type": "code",
     "collapsed": false,
     "input": [
      "prob = norm.cdf(1.91)\n",
      "print prob, 1.0-prob"
     ],
     "language": "python",
     "metadata": {},
     "outputs": [
      {
       "output_type": "stream",
       "stream": "stdout",
       "text": [
        "0.97193339334 0.0280666066598\n"
       ]
      }
     ],
     "prompt_number": 60
    },
    {
     "cell_type": "markdown",
     "metadata": {},
     "source": [
      "#If we are doing a one-tailed 95% (alpha = 0.05)"
     ]
    },
    {
     "cell_type": "code",
     "collapsed": false,
     "input": [
      "ci_limit = 95.0\n",
      "ci_limit /= 100.\n",
      "#ci_limit += (1.0 - ci_limit)/2.\n",
      "print ci_limit\n",
      "criticalzvalue = norm.ppf(ci_limit)\n",
      "print \"number of standard deviations from the mean is %0.2f\"% (criticalzvalue)"
     ],
     "language": "python",
     "metadata": {},
     "outputs": [
      {
       "output_type": "stream",
       "stream": "stdout",
       "text": [
        "0.95\n",
        "number of standard deviations from the mean is 1.64\n"
       ]
      }
     ],
     "prompt_number": 56
    },
    {
     "cell_type": "code",
     "collapsed": false,
     "input": [
      "theValue = sddiff * criticalzvalue\n",
      "print theValue"
     ],
     "language": "python",
     "metadata": {},
     "outputs": [
      {
       "output_type": "stream",
       "stream": "stdout",
       "text": [
        "1.01569544981\n"
       ]
      }
     ],
     "prompt_number": 59
    },
    {
     "cell_type": "markdown",
     "metadata": {},
     "source": [
      "##If H0 is true there is only a 5% chance of having a difference of means of more than 1.02"
     ]
    },
    {
     "cell_type": "markdown",
     "metadata": {},
     "source": [
      "##Our difference of 1.91 exceeds this and hence we would reject the Null hypothesis"
     ]
    },
    {
     "cell_type": "code",
     "collapsed": false,
     "input": [
      "men = bernoulli.rvs(0.642, size=1000)\n",
      "#print \"men \", men\n",
      "women = bernoulli.rvs(0.591, size=1000)\n",
      "#print \"women \", women"
     ],
     "language": "python",
     "metadata": {},
     "outputs": [],
     "prompt_number": 73
    },
    {
     "cell_type": "code",
     "collapsed": false,
     "input": [
      "ttres = ttest_ind(men, women)"
     ],
     "language": "python",
     "metadata": {},
     "outputs": [],
     "prompt_number": 65
    },
    {
     "cell_type": "code",
     "collapsed": false,
     "input": [
      "print ttres"
     ],
     "language": "python",
     "metadata": {},
     "outputs": [
      {
       "output_type": "stream",
       "stream": "stdout",
       "text": [
        "(2.1586515788662752, 0.030995951219790548)\n"
       ]
      }
     ],
     "prompt_number": 66
    },
    {
     "cell_type": "code",
     "collapsed": false,
     "input": [
      "2*(1-norm.cdf(2.1586515788662752))"
     ],
     "language": "python",
     "metadata": {},
     "outputs": [
      {
       "metadata": {},
       "output_type": "pyout",
       "prompt_number": 71,
       "text": [
        "0.030877207986750088"
       ]
      }
     ],
     "prompt_number": 71
    },
    {
     "cell_type": "markdown",
     "metadata": {},
     "source": [
      "##NB: difference in do difference of means when using population proportions - can recalculate the std dev when assuming mean1 - mean2 = 0. You do not just add the individual std devs"
     ]
    }
   ],
   "metadata": {}
  }
 ]
}