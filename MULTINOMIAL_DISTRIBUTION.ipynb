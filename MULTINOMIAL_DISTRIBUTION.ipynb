{
 "metadata": {
  "name": "",
  "signature": "sha256:9dae937e72f312de0975f24a0bca977a1e765178b32f8ce1fde41923d3210d1c"
 },
 "nbformat": 3,
 "nbformat_minor": 0,
 "worksheets": [
  {
   "cells": [
    {
     "cell_type": "code",
     "collapsed": false,
     "input": [
      "from IPython.display import Latex\n",
      "from IPython.display import Math\n",
      "import numpy as np\n",
      "import matplotlib.pyplot as plt\n",
      "%matplotlib inline"
     ],
     "language": "python",
     "metadata": {},
     "outputs": [],
     "prompt_number": 2
    },
    {
     "cell_type": "markdown",
     "metadata": {},
     "source": [
      "Discrete variables can often take on more than 2 values, taking on one of K possible, mutually exclusive, values"
     ]
    },
    {
     "cell_type": "markdown",
     "metadata": {},
     "source": [
      "Represent this using the 1-of-K scheme: a variable is a K dimensional vector where 1 of the elements has value 1, and all others have value 0"
     ]
    },
    {
     "cell_type": "markdown",
     "metadata": {},
     "source": [
      "Example:\n",
      "\n",
      "*    K=6\n",
      "*    x3 = 1\n",
      "*    x = (0,0,1,0,0,0)T"
     ]
    },
    {
     "cell_type": "markdown",
     "metadata": {},
     "source": [
      "$\\sum_{k=1}^{K} x_k=1$"
     ]
    },
    {
     "cell_type": "markdown",
     "metadata": {},
     "source": [
      "$\\text{Let }p(x_k=1) = \\mu_k$"
     ]
    },
    {
     "cell_type": "markdown",
     "metadata": {},
     "source": [
      "$\\text{then the distribution of x is given by }p(x|\\overline{\\mu})=\\prod_{k=1}^{K} \\mu_k^{x_k}$"
     ]
    },
    {
     "cell_type": "markdown",
     "metadata": {},
     "source": [
      "$\\text{where }\\overline{\\mu}=(u_1, u_2, u_3, ... , u_k)$"
     ]
    },
    {
     "cell_type": "markdown",
     "metadata": {},
     "source": [
      "$\\text{and the parameters } \\mu_k \\geq 0 \\text{ and }\\sum_{k=1}^{K}\\mu_k=1 \\text{ because they represent probabilities}$"
     ]
    },
    {
     "cell_type": "markdown",
     "metadata": {},
     "source": [
      "$E[x|\\mu]=\\mu$"
     ]
    },
    {
     "cell_type": "markdown",
     "metadata": {},
     "source": [
      "The distribution is a generalization of the Bernoulli distribution to two or more outcomes."
     ]
    },
    {
     "cell_type": "markdown",
     "metadata": {},
     "source": [
      "##$p = \\frac{n}{n_{1}!n_{2}!n_{3}!}p^{n_{1}}_{1}p^{n_{2}}_{2}p^{n_{3}}_{3}$\n",
      "\n",
      "multinomial 3 outcomes\n",
      "\n",
      "where\n",
      "\n",
      "p is the probability,\n",
      "n is the total number of events\n",
      "n1 is the number of times Outcome 1 occurs,\n",
      "n2 is the number of times Outcome 2 occurs,\n",
      "n3 is the number of times Outcome 3 occurs,\n",
      "p1 is the probability of Outcome 1\n",
      "p2 is the probability of Outcome 2, and\n",
      "p3 is the probability of Outcome 3."
     ]
    }
   ],
   "metadata": {}
  }
 ]
}