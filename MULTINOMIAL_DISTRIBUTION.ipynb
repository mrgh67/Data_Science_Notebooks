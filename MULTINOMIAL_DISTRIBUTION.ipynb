{
 "metadata": {
  "name": "",
  "signature": "sha256:21cd728ea07daab0a1a9b7bb6b31128b068c501b79c94bc978ecec2d9a364535"
 },
 "nbformat": 3,
 "nbformat_minor": 0,
 "worksheets": [
  {
   "cells": [
    {
     "cell_type": "code",
     "collapsed": false,
     "input": [
      "from IPython.display import Latex\n",
      "from IPython.display import Math\n",
      "import numpy as np\n",
      "import matplotlib.pyplot as plt\n",
      "%matplotlib inline"
     ],
     "language": "python",
     "metadata": {},
     "outputs": [],
     "prompt_number": 2
    },
    {
     "cell_type": "markdown",
     "metadata": {},
     "source": [
      "Discrete variables can often take on more than 2 values, taking on one of K possible, mutually exclusive, values"
     ]
    },
    {
     "cell_type": "markdown",
     "metadata": {},
     "source": [
      "Represent this using the 1-of-K scheme: a variable is a K dimensional vector where 1 of the elements has value 1, and all others have value 0"
     ]
    },
    {
     "cell_type": "markdown",
     "metadata": {},
     "source": [
      "Example:\n",
      "\n",
      "*    K=6\n",
      "*    x3 = 1\n",
      "*    x = (0,0,1,0,0,0)T"
     ]
    },
    {
     "cell_type": "code",
     "collapsed": false,
     "input": [
      "Math(r'\\sum_{k=1}^{K} x_k=1')"
     ],
     "language": "python",
     "metadata": {},
     "outputs": [
      {
       "latex": [
        "$$\\sum_{k=1}^{K} x_k=1$$"
       ],
       "metadata": {},
       "output_type": "pyout",
       "prompt_number": 4,
       "text": [
        "<IPython.core.display.Math at 0x10a786a50>"
       ]
      }
     ],
     "prompt_number": 4
    },
    {
     "cell_type": "code",
     "collapsed": false,
     "input": [
      "Math(r'Let p(x_k=1) = \\mu_k')"
     ],
     "language": "python",
     "metadata": {},
     "outputs": [
      {
       "latex": [
        "$$Let p(x_k=1) = \\mu_k$$"
       ],
       "metadata": {},
       "output_type": "pyout",
       "prompt_number": 6,
       "text": [
        "<IPython.core.display.Math at 0x10a786d50>"
       ]
      }
     ],
     "prompt_number": 6
    },
    {
     "cell_type": "code",
     "collapsed": false,
     "input": [
      "Math(r'\\text{then the distribution of x is given by }p(x|\\overline{\\mu})=\\prod_{k=1}^{K} \\mu_k^{x_k}')"
     ],
     "language": "python",
     "metadata": {},
     "outputs": [
      {
       "latex": [
        "$$\\text{then the distribution of x is given by }p(x|\\overline{\\mu})=\\prod_{k=1}^{K} \\mu_k^{x_k}$$"
       ],
       "metadata": {},
       "output_type": "pyout",
       "prompt_number": 10,
       "text": [
        "<IPython.core.display.Math at 0x10a786b90>"
       ]
      }
     ],
     "prompt_number": 10
    },
    {
     "cell_type": "code",
     "collapsed": false,
     "input": [
      "Math(r'\\text{where }\\overline{\\mu}=(u_1, u_2, u_3, ... , u_k)')"
     ],
     "language": "python",
     "metadata": {},
     "outputs": [
      {
       "latex": [
        "$$\\text{where }\\overline{\\mu}=(u_1, u_2, u_3, ... , u_k)$$"
       ],
       "metadata": {},
       "output_type": "pyout",
       "prompt_number": 11,
       "text": [
        "<IPython.core.display.Math at 0x10a786c10>"
       ]
      }
     ],
     "prompt_number": 11
    },
    {
     "cell_type": "code",
     "collapsed": false,
     "input": [
      "Math(r'\\text{and the parameters } \\mu_k \\geq 0 \\text{ and }\\sum_{k=1}^{K}\\mu_k=1 \\text{because they represent probabilities}')"
     ],
     "language": "python",
     "metadata": {},
     "outputs": [
      {
       "latex": [
        "$$\\text{and the parameters } \\mu_k \\geq 0 \\text{ and }\\sum_{k=1}^{K}\\mu_k=1 \\text{because they represent probabilities}$$"
       ],
       "metadata": {},
       "output_type": "pyout",
       "prompt_number": 21,
       "text": [
        "<IPython.core.display.Math at 0x10a7a6210>"
       ]
      }
     ],
     "prompt_number": 21
    },
    {
     "cell_type": "code",
     "collapsed": false,
     "input": [
      "Math(r'E[x|\\mu]=\\mu')"
     ],
     "language": "python",
     "metadata": {},
     "outputs": [
      {
       "latex": [
        "$$E[x|\\mu]=\\mu$$"
       ],
       "metadata": {},
       "output_type": "pyout",
       "prompt_number": 23,
       "text": [
        "<IPython.core.display.Math at 0x10a7a6090>"
       ]
      }
     ],
     "prompt_number": 23
    },
    {
     "cell_type": "markdown",
     "metadata": {},
     "source": [
      "The distribution is a generalization of the Bernoulli distribution to two or more outcomes."
     ]
    }
   ],
   "metadata": {}
  }
 ]
}