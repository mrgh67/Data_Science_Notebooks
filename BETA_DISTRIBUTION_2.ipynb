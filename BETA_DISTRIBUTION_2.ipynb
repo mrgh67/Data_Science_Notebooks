{
 "metadata": {
  "name": "",
  "signature": "sha256:954ca7f2c62be01b461470b2fe88748f834d4df040f8efa347603bacede03181"
 },
 "nbformat": 3,
 "nbformat_minor": 0,
 "worksheets": [
  {
   "cells": [
    {
     "cell_type": "markdown",
     "metadata": {},
     "source": [
      "#AMAZON RESELLERS"
     ]
    },
    {
     "cell_type": "code",
     "collapsed": false,
     "input": [
      "import pandas as pd\n",
      "import numpy as np\n",
      "import matplotlib.pyplot as plt\n",
      "%matplotlib inline\n",
      "from scipy.stats import beta"
     ],
     "language": "python",
     "metadata": {},
     "outputs": [],
     "prompt_number": 15
    },
    {
     "cell_type": "code",
     "collapsed": false,
     "input": [
      "a = 5\n",
      "b = 10\n",
      "my_beta = beta(a, b)\n",
      "mean, var, skew, kurt = my_beta.stats(moments='mvsk')\n",
      "print \"mean: %s \\nvar: %s \\nskew: %s \\nkurt: %s \\n\" % (mean, var, skew, kurt)"
     ],
     "language": "python",
     "metadata": {},
     "outputs": [
      {
       "output_type": "stream",
       "stream": "stdout",
       "text": [
        "mean: 0.333333333333 \n",
        "var: 0.0138888888889 \n",
        "skew: 0.332756132323 \n",
        "kurt: -0.176470588235 \n",
        "\n"
       ]
      }
     ],
     "prompt_number": 16
    },
    {
     "cell_type": "code",
     "collapsed": false,
     "input": [
      "# generate random numbers from the distribution\n",
      "random_values = my_beta.rvs(size=100)\n",
      "print random_values"
     ],
     "language": "python",
     "metadata": {},
     "outputs": [
      {
       "output_type": "stream",
       "stream": "stdout",
       "text": [
        "[ 0.27392983  0.1694144   0.31881178  0.36258386  0.22319608  0.37057292\n",
        "  0.52083432  0.26226762  0.4540519   0.32146365  0.45844197  0.52005835\n",
        "  0.34586796  0.24209964  0.38151618  0.55073713  0.336605    0.12562824\n",
        "  0.32147215  0.38363396  0.40028337  0.60305483  0.35561578  0.38586243\n",
        "  0.38273226  0.24522487  0.56619091  0.38100714  0.43090398  0.13811161\n",
        "  0.25722085  0.30584804  0.37280065  0.19386259  0.15241569  0.28642753\n",
        "  0.22537801  0.25279894  0.33683086  0.40434687  0.19194924  0.36751142\n",
        "  0.61108499  0.29989606  0.22334543  0.45555094  0.17056116  0.24483249\n",
        "  0.37566347  0.3288328   0.48477302  0.18655323  0.4022242   0.33917406\n",
        "  0.26004093  0.29601199  0.32993872  0.17773217  0.25816999  0.3531987\n",
        "  0.26621189  0.19430522  0.31029257  0.31677057  0.23588195  0.30634722\n",
        "  0.50850071  0.10381871  0.52452071  0.37858653  0.73019796  0.16161577\n",
        "  0.43678093  0.28006236  0.40624415  0.28729318  0.1782103   0.27117754\n",
        "  0.25587707  0.19669207  0.30496911  0.45596769  0.22020905  0.35564792\n",
        "  0.24793996  0.36513872  0.15941999  0.32503155  0.43927927  0.36985233\n",
        "  0.22086885  0.08777098  0.35141005  0.47157447  0.48392262  0.32235504\n",
        "  0.38890167  0.34390158  0.62556699  0.45400803]\n"
       ]
      }
     ],
     "prompt_number": 17
    },
    {
     "cell_type": "code",
     "collapsed": false,
     "input": [
      "# what does the histogram look like for these random values?\n",
      "fig, ax = plt.subplots(1, 1)\n",
      "\n",
      "h = ax.hist(random_values, normed=False, bins=20, alpha=0.2)\n",
      "h2 = ax.hist(random_values, normed=True, bins=20, alpha=0.2)"
     ],
     "language": "python",
     "metadata": {},
     "outputs": [
      {
       "metadata": {},
       "output_type": "display_data",
       "png": "[encoded data removed]",
       "text": [
        "<matplotlib.figure.Figure at 0x10d638c90>"
       ]
      }
     ],
     "prompt_number": 18
    },
    {
     "cell_type": "code",
     "collapsed": false,
     "input": [
      "# what does the pdf plot look like?\n",
      "fig, ax = plt.subplots(1, 1)\n",
      "\n",
      "xs = np.linspace(0, 1, 200)\n",
      "p = ax.plot(xs, my_beta.pdf(xs), 'r-', lw=2, alpha=0.6, label='beta(a=%0.2f, b=%0.2f) pdf'%(a,b))\n",
      "h = ax.hist(random_values, normed=True, bins=20, alpha=0.2)\n",
      "ax.legend()"
     ],
     "language": "python",
     "metadata": {},
     "outputs": [
      {
       "metadata": {},
       "output_type": "pyout",
       "prompt_number": 19,
       "text": [
        "<matplotlib.legend.Legend at 0x10dba6390>"
       ]
      },
      {
       "metadata": {},
       "output_type": "display_data",
       "png": "[encoded data removed]",
       "text": [
        "<matplotlib.figure.Figure at 0x10d957c10>"
       ]
      }
     ],
     "prompt_number": 19
    },
    {
     "cell_type": "markdown",
     "metadata": {},
     "source": [
      "### [A Bayesian view of Amazon Resellers](http://www.johndcook.com/blog/2011/09/27/bayesian-amazon/)\n"
     ]
    },
    {
     "cell_type": "markdown",
     "metadata": {},
     "source": [
      "Three Amazon resellers offer a book at essentially the same price. Here are their ratings:\n",
      "\n",
      "- 94% positive out of 85,193 reviews\n",
      "- 98% positive out of 20,785 reviews\n",
      "- 99% positive out of 840 reviews\n",
      "\n",
      "Which reseller is likely to give the best service?"
     ]
    },
    {
     "cell_type": "markdown",
     "metadata": {},
     "source": [
      "#### A simpler example:\n",
      "\n",
      "- Reseller A has 90 positive reviews out of 100 (90% positive)\n",
      "- Reseller B has two reviews, both positive. (100% positive)\n",
      "\n",
      "Which is better?  (better = more trustworthy)"
     ]
    },
    {
     "cell_type": "code",
     "collapsed": false,
     "input": [
      "# Plot Beta Distribution of Beta(1,1) (the Prior)\n",
      "# Plot Beta(1,1)\n",
      "# Plot Beta(91,11)\n",
      "# Plot Beta(3,1)\n",
      "# what does pdf plot look like?\n",
      "fig, ax = plt.subplots(1, 1)\n",
      "\n",
      "fig.figsize=(10,5)\n",
      "xs = np.linspace(0, 1, 200)\n",
      "\n",
      "resellerA_a = 90\n",
      "resellerA_b = 11\n",
      "resellerB_a = 3\n",
      "resellerB_b = 1\n",
      "pA = ax.plot(xs, beta.pdf(xs, resellerA_a, resellerA_b), 'r-', lw=2, alpha=0.6, \n",
      "             label='beta(a=%0.2f, b=%0.2f) pdf'%(resellerA_a, resellerA_b))\n",
      "pB = ax.plot(xs, beta.pdf(xs, resellerB_a, resellerB_b), 'b-', lw=2, alpha=0.6, \n",
      "             label='beta(a=%0.2f, b=%0.2f) pdf'%(resellerB_a, resellerB_b))\n",
      "\n",
      "ax.legend()"
     ],
     "language": "python",
     "metadata": {},
     "outputs": [
      {
       "metadata": {},
       "output_type": "pyout",
       "prompt_number": 20,
       "text": [
        "<matplotlib.legend.Legend at 0x10dc2f890>"
       ]
      },
      {
       "metadata": {},
       "output_type": "display_data",
       "png": "[encoded data removed]",
       "text": [
        "<matplotlib.figure.Figure at 0x10dc2f3d0>"
       ]
      }
     ],
     "prompt_number": 20
    },
    {
     "cell_type": "code",
     "collapsed": false,
     "input": [
      "ras = beta.rvs(90, 11, size=2)\n",
      "print ras\n",
      "mean = beta(90,11).stats(moments='m')\n",
      "print mean\n",
      "mean = beta(3,1).stats(moments='m')\n",
      "print mean"
     ],
     "language": "python",
     "metadata": {},
     "outputs": [
      {
       "output_type": "stream",
       "stream": "stdout",
       "text": [
        "[ 0.91971092  0.87974407]\n",
        "0.891089108911\n",
        "0.75\n"
       ]
      }
     ],
     "prompt_number": 21
    },
    {
     "cell_type": "markdown",
     "metadata": {},
     "source": [
      "##BE CAREFUL WITH THIS. PERCENT_BETTER IS NOT PERCENT BETTER!\n",
      "##A VALUE OF 0.5 MEANS HALF THE SAMPLES FROM A WERE BIGGER THAN B AND HALF FROM B WERE BIGGER THAN A\n",
      "##SO ABOVE 0.5 MEANS A IS BETTER THAN B, BELOW 0.5 MEANS B IS BETTER THAN A"
     ]
    },
    {
     "cell_type": "markdown",
     "metadata": {},
     "source": [
      "###Percent_Better is really comparing 2 posterior probabiliy distributions!\n",
      "###Another way of doing the comparison is to simply calculate the mean of the posterior distribution"
     ]
    },
    {
     "cell_type": "code",
     "collapsed": false,
     "input": [
      "# What is the probability that a sample from resellerA is bigger than a sample from resellerB?\n",
      "# We answer this with random sampling!\n",
      "def percent_better(resellerA_a, resellerA_b, resellerB_a, resellerB_b, size):\n",
      "    ra = beta.rvs(resellerA_a, resellerA_b, size=size)\n",
      "    rb = beta.rvs(resellerB_a, resellerB_b, size=size)\n",
      "    #This is just a count of the number of times ra exceeds rb\n",
      "    return sum(ra >= rb) / float(size)"
     ],
     "language": "python",
     "metadata": {},
     "outputs": [],
     "prompt_number": 22
    },
    {
     "cell_type": "code",
     "collapsed": false,
     "input": [
      "percent_better(resellerA_a, resellerA_b, resellerB_a, resellerB_b, size=100000)"
     ],
     "language": "python",
     "metadata": {},
     "outputs": [
      {
       "metadata": {},
       "output_type": "pyout",
       "prompt_number": 23,
       "text": [
        "0.70935000000000004"
       ]
      }
     ],
     "prompt_number": 23
    },
    {
     "cell_type": "code",
     "collapsed": false,
     "input": [
      "percent_better(resellerB_a, resellerB_b, resellerA_a, resellerA_b, size=100000)"
     ],
     "language": "python",
     "metadata": {},
     "outputs": [
      {
       "metadata": {},
       "output_type": "pyout",
       "prompt_number": 24,
       "text": [
        "0.29219000000000001"
       ]
      }
     ],
     "prompt_number": 24
    },
    {
     "cell_type": "markdown",
     "metadata": {},
     "source": [
      "## Back to the original Question\n",
      "Three Amazon resellers offer a book at essentially the same price. Here are their ratings:\n",
      "    \n",
      "- Reseller A: 94% positive out of 85,193 reviews\n",
      "- Reseller B: 98% positive out of 20,785 reviews\n",
      "- Reseller C: 99% positive out of 840 reviews\n",
      "\n",
      "Which reseller is likely to give the best service?"
     ]
    },
    {
     "cell_type": "markdown",
     "metadata": {},
     "source": [
      "####All that is happening here is that we are calculating a posterior using the reseller stats and a prior of a Beta distribution with parameters 1,1"
     ]
    },
    {
     "cell_type": "code",
     "collapsed": false,
     "input": [
      "def simp(t1):\n",
      "    #get the number of successes or positive reviews\n",
      "    a1=(94. * t1 / 100.)\n",
      "    \n",
      "    #get the number of failures or negative reviews\n",
      "    a2 = (t1 - a1)\n",
      "    \n",
      "    #add the prior\n",
      "    a1 += 1\n",
      "    a2 += 1\n",
      "    \n",
      "    print a1\n",
      "    print a2\n",
      "    return [a1, a2]"
     ],
     "language": "python",
     "metadata": {},
     "outputs": [],
     "prompt_number": 37
    },
    {
     "cell_type": "code",
     "collapsed": false,
     "input": [
      "a1, a2 = simp(85193)\n",
      "print a1, a2"
     ],
     "language": "python",
     "metadata": {},
     "outputs": [
      {
       "output_type": "stream",
       "stream": "stdout",
       "text": [
        "80082.42\n",
        "5112.58\n",
        "80082.42 5112.58\n"
       ]
      }
     ],
     "prompt_number": 26
    },
    {
     "cell_type": "code",
     "collapsed": false,
     "input": [
      "b1, b2 = simp(20785)\n",
      "print b1, b2"
     ],
     "language": "python",
     "metadata": {},
     "outputs": [
      {
       "output_type": "stream",
       "stream": "stdout",
       "text": [
        "19538.9\n",
        "1248.1\n",
        "19538.9 1248.1\n"
       ]
      }
     ],
     "prompt_number": 27
    },
    {
     "cell_type": "code",
     "collapsed": false,
     "input": [
      "c1, c2 = simp(840)\n",
      "print c1, c2"
     ],
     "language": "python",
     "metadata": {},
     "outputs": [
      {
       "output_type": "stream",
       "stream": "stdout",
       "text": [
        "790.6\n",
        "51.4\n",
        "790.6 51.4\n"
       ]
      }
     ],
     "prompt_number": 28
    },
    {
     "cell_type": "markdown",
     "metadata": {},
     "source": [
      "###Based on the percent_better function a is the best, followed by b, followed by c\n",
      "###Comparison of the distribution means confirms this order"
     ]
    },
    {
     "cell_type": "code",
     "collapsed": false,
     "input": [
      "percent_better(a1, a2, b1, b2, size=100000)"
     ],
     "language": "python",
     "metadata": {},
     "outputs": [
      {
       "metadata": {},
       "output_type": "pyout",
       "prompt_number": 29,
       "text": [
        "0.5071"
       ]
      }
     ],
     "prompt_number": 29
    },
    {
     "cell_type": "code",
     "collapsed": false,
     "input": [
      "percent_better(a1, a2, c1, c2, size=100000)"
     ],
     "language": "python",
     "metadata": {},
     "outputs": [
      {
       "metadata": {},
       "output_type": "pyout",
       "prompt_number": 30,
       "text": [
        "0.53632000000000002"
       ]
      }
     ],
     "prompt_number": 30
    },
    {
     "cell_type": "code",
     "collapsed": false,
     "input": [
      "percent_better(b1, b2, c1, c2, size=100000)"
     ],
     "language": "python",
     "metadata": {},
     "outputs": [
      {
       "metadata": {},
       "output_type": "pyout",
       "prompt_number": 31,
       "text": [
        "0.53327000000000002"
       ]
      }
     ],
     "prompt_number": 31
    },
    {
     "cell_type": "code",
     "collapsed": false,
     "input": [
      "mean, var = beta(a1,a2).stats(moments='mv')\n",
      "print \"mean of a is\", mean\n",
      "print \"var of a is %0.10f\"% (var)\n",
      "mean, var = beta(b1,b2).stats(moments='mv')\n",
      "print \"mean of b is\", mean\n",
      "print \"var of b %0.10f\"% (var)\n",
      "mean, var = beta(c1,c2).stats(moments='mv')\n",
      "print \"mean of c is\",mean\n",
      "print \"var of c %0.10f\"% (var)"
     ],
     "language": "python",
     "metadata": {},
     "outputs": [
      {
       "output_type": "stream",
       "stream": "stdout",
       "text": [
        "mean of a is 0.939989670755\n",
        "var of a is 0.0000006621\n",
        "mean of b is 0.939957665849\n",
        "var of b 0.0000027149\n",
        "mean of c is 0.938954869359\n",
        "var of c 0.0000679936\n"
       ]
      }
     ],
     "prompt_number": 43
    },
    {
     "cell_type": "code",
     "collapsed": false,
     "input": [
      "fig1 = plt.figure(1, figsize=(12,5))\n",
      "ax1 = plt.subplot(131)\n",
      "ax2 = plt.subplot(132)\n",
      "ax3 = plt.subplot(133)\n",
      "\n",
      "plt.subplots_adjust(left=0.00, right=1, wspace=0.5, hspace=0.5)\n",
      "x = np.linspace(0, 1, 200)\n",
      "\n",
      "ax1.plot(x, beta.pdf(x, a1, a2),'r-', lw=5, alpha=0.6, label='beta pdf')\n",
      "ax1.set_title(\"Reseller A\")\n",
      "\n",
      "ax2.plot(x, beta.pdf(x, b1, b2),'r-', lw=5, alpha=0.6, label='beta pdf')\n",
      "ax2.set_title(\"Reseller B\")\n",
      "\n",
      "ax3.plot(x, beta.pdf(x, c1, c2),'r-', lw=5, alpha=0.6, label='beta pdf')\n",
      "ax3.set_title(\"Reseller C\")"
     ],
     "language": "python",
     "metadata": {},
     "outputs": [
      {
       "metadata": {},
       "output_type": "pyout",
       "prompt_number": 112,
       "text": [
        "<matplotlib.text.Text at 0x10f64d510>"
       ]
      },
      {
       "metadata": {},
       "output_type": "display_data",
       "png": "[encoded data removed]",
       "text": [
        "<matplotlib.figure.Figure at 0x10f07f210>"
       ]
      }
     ],
     "prompt_number": 112
    }
   ],
   "metadata": {}
  }
 ]
}