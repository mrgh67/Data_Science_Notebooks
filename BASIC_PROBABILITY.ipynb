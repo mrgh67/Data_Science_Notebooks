{
 "metadata": {
  "name": "",
  "signature": "sha256:9db60006350b96d2ae3aaf6aa4f0e98b3d0424655c665b9533fd6ad074469004"
 },
 "nbformat": 3,
 "nbformat_minor": 0,
 "worksheets": [
  {
   "cells": [
    {
     "cell_type": "code",
     "collapsed": false,
     "input": [
      "from IPython.display import Latex\n",
      "from IPython.display import Math\n",
      "from scipy.stats import bernoulli\n",
      "import numpy as np\n",
      "import matplotlib.pyplot as plt\n",
      "%matplotlib inline"
     ],
     "language": "python",
     "metadata": {},
     "outputs": [],
     "prompt_number": 9
    },
    {
     "cell_type": "code",
     "collapsed": false,
     "input": [
      "redbox = {\"rb1\" : \"apple\", \"rb2\" : \"apple\", \"rb3\" : \"orange\", \"rb4\" : \"orange\", \"rb5\" : \"orange\", \"rb6\" : \"orange\" , \"rb7\" : \"orange\", \"rb8\" : \"orange\"}"
     ],
     "language": "python",
     "metadata": {},
     "outputs": [],
     "prompt_number": 6
    },
    {
     "cell_type": "code",
     "collapsed": false,
     "input": [
      "print redbox[redbox.keys()[0]]"
     ],
     "language": "python",
     "metadata": {},
     "outputs": [
      {
       "output_type": "stream",
       "stream": "stdout",
       "text": [
        "orange\n"
       ]
      }
     ],
     "prompt_number": 63
    },
    {
     "cell_type": "code",
     "collapsed": false,
     "input": [
      "bluebox = {\"bb1\" : \"apple\", \"bb2\" : \"apple\", \"bb3\" : \"ornage\", \"bb4\" : \"orange\"}"
     ],
     "language": "python",
     "metadata": {},
     "outputs": []
    },
    {
     "cell_type": "code",
     "collapsed": false,
     "input": [
      "choose_box = bernoulli.rvs(0.6, size=1)\n",
      "print choose_box"
     ],
     "language": "python",
     "metadata": {},
     "outputs": [
      {
       "output_type": "stream",
       "stream": "stdout",
       "text": [
        "[1]\n"
       ]
      }
     ],
     "prompt_number": 37
    },
    {
     "cell_type": "code",
     "collapsed": false,
     "input": [
      "choose_redbox_fruit = np.random.multinomial(1, [1/8.]*8)\n",
      "print choose_redbox_fruit[0]"
     ],
     "language": "python",
     "metadata": {},
     "outputs": [
      {
       "output_type": "stream",
       "stream": "stdout",
       "text": [
        "0\n"
       ]
      }
     ],
     "prompt_number": 73
    },
    {
     "cell_type": "code",
     "collapsed": false,
     "input": [
      "choose_bluebox_fruit = np.random.multinomial(1, [1/4.]*4)\n",
      "print choose_bluebox_fruit[0]"
     ],
     "language": "python",
     "metadata": {},
     "outputs": [
      {
       "output_type": "stream",
       "stream": "stdout",
       "text": [
        "0\n"
       ]
      }
     ],
     "prompt_number": 72
    },
    {
     "cell_type": "code",
     "collapsed": false,
     "input": [
      "redbox = {\"rb1\" : \"apple\", \"rb2\" : \"apple\", \"rb3\" : \"orange\", \"rb4\" : \"orange\", \"rb5\" : \"orange\", \"rb6\" : \"orange\" , \"rb7\" : \"orange\", \"rb8\" : \"orange\"}\n",
      "bluebox = {\"bb1\" : \"apple\", \"bb2\" : \"apple\", \"bb3\" : \"apple\", \"bb4\" : \"orange\"}\n",
      "\n",
      "def pAppleGivenRed():\n",
      "    apple = 0\n",
      "    orange = 0\n",
      "    for item in redbox:\n",
      "        if redbox[item] == \"apple\":\n",
      "            apple += 1\n",
      "        else:\n",
      "            orange += 1\n",
      "    return float(apple)/float(len(redbox))\n",
      "\n",
      "def pAppleGivenBlue():\n",
      "    apple = 0\n",
      "    orange = 0\n",
      "    for item in bluebox:\n",
      "        if bluebox[item] == \"apple\":\n",
      "            apple += 1\n",
      "        else:\n",
      "            orange += 1\n",
      "    return float(apple)/float(len(bluebox))\n",
      "\n",
      "def chooseBox(N):\n",
      "    red = 0\n",
      "    blue = 0\n",
      "    for i in range(N):\n",
      "        choose_box = bernoulli.rvs(0.6, size=1)\n",
      "        if choose_box == 1:\n",
      "            blue += 1;\n",
      "        else:\n",
      "            red += 1;\n",
      "    print \"Blue: \", float(blue)/float(N)\n",
      "    print \"Red: \", float(red)/float(N)\n",
      "    return float(blue)/float(N)\n",
      "    \n",
      "def chooseFruit(N):\n",
      "    \n",
      "    orange = 0\n",
      "    apple = 0\n",
      "    for i in range(N):\n",
      "        box = bernoulli.rvs(0.6, size=1)\n",
      "        if box == 1:\n",
      "            choose_bluebox_fruit = np.random.multinomial(1, [1/4.]*4)\n",
      "            for j in range(len(bluebox)):\n",
      "                if choose_bluebox_fruit[j] == 1:\n",
      "                    fruit = bluebox[bluebox.keys()[j]]\n",
      "                    if fruit == \"apple\":\n",
      "                        apple += 1\n",
      "                    else:\n",
      "                        orange += 1\n",
      "        else:\n",
      "            choose_redbox_fruit = np.random.multinomial(1, [1/8.]*8)\n",
      "            for j in range(len(redbox)):\n",
      "                if choose_redbox_fruit[j] == 1:\n",
      "                    fruit = redbox[redbox.keys()[j]]\n",
      "                    if fruit == \"apple\":\n",
      "                        apple += 1\n",
      "                    else:\n",
      "                        orange += 1\n",
      "    print \"Apple: \", float(apple)/float(N)\n",
      "    print \"Orange: \", float(orange)/float(N)"
     ],
     "language": "python",
     "metadata": {},
     "outputs": [],
     "prompt_number": 262
    },
    {
     "cell_type": "code",
     "collapsed": false,
     "input": [
      "n = pAppleGivenRed()\n",
      "print n\n",
      "n = pAppleGivenBlue()\n",
      "print n"
     ],
     "language": "python",
     "metadata": {},
     "outputs": [
      {
       "output_type": "stream",
       "stream": "stdout",
       "text": [
        "0.25\n",
        "0.75\n"
       ]
      }
     ],
     "prompt_number": 263
    },
    {
     "cell_type": "code",
     "collapsed": false,
     "input": [
      "chooseBox(100000)"
     ],
     "language": "python",
     "metadata": {},
     "outputs": [
      {
       "output_type": "stream",
       "stream": "stdout",
       "text": [
        "Blue:  0.59966\n",
        "Red:  0.40034\n"
       ]
      },
      {
       "metadata": {},
       "output_type": "pyout",
       "prompt_number": 265,
       "text": [
        "0.59966"
       ]
      }
     ],
     "prompt_number": 265
    },
    {
     "cell_type": "code",
     "collapsed": false,
     "input": [
      "chooseFruit(100000)"
     ],
     "language": "python",
     "metadata": {},
     "outputs": [
      {
       "output_type": "stream",
       "stream": "stdout",
       "text": [
        "Apple:  0.55181\n",
        "Orange:  0.44819\n"
       ]
      }
     ],
     "prompt_number": 266
    },
    {
     "cell_type": "code",
     "collapsed": false,
     "input": [
      "P_BlueBox = chooseBox(100000)\n",
      "P_RedBox = 1 - P_BlueBox;\n",
      "\n",
      "P_Apple_given_BlueBox = pAppleGivenBlue()\n",
      "P_Orange_given_BlueBox = 1 - P_Apple_given_BlueBox\n",
      "P_Apple_given_RedBox = pAppleGivenRed()\n",
      "P_Orange_given_RedBox = 1 - P_Apple_given_RedBox\n",
      "\n",
      "P_Apple = P_Apple_given_BlueBox * P_BlueBox + P_Apple_given_RedBox * P_RedBox\n",
      "P_Orange = P_Orange_given_BlueBox * P_BlueBox + P_Orange_given_RedBox * P_RedBox\n",
      "\n",
      "print \"P Blue box = \",P_BlueBox\n",
      "print \"P Red box = \",P_RedBox\n",
      "\n",
      "print \"P Apple given blue box = \",P_Apple_given_BlueBox\n",
      "print \"P Orange given blue box = \",P_Orange_given_BlueBox\n",
      "\n",
      "print \"P Apple given red box = \",P_Apple_given_RedBox\n",
      "print \"P Orange given red box = \",P_Orange_given_RedBox\n",
      "\n",
      "\n",
      "print \"P_Apple is\", P_Apple\n",
      "print 11.0/20.0\n",
      "print \"P_Orange is\", P_Orange\n",
      "print 9.0/20.0"
     ],
     "language": "python",
     "metadata": {},
     "outputs": [
      {
       "output_type": "stream",
       "stream": "stdout",
       "text": [
        "Blue:  0.5977\n",
        "Red:  0.4023\n",
        "P Blue box =  0.5977\n",
        "P Red box =  0.4023\n",
        "P Apple given blue box =  0.75\n",
        "P Orange given blue box =  0.25\n",
        "P Apple given red box =  0.25\n",
        "P Orange given red box =  0.75\n",
        "P_Apple is 0.54885\n",
        "0.55\n",
        "P_Orange is 0.45115\n",
        "0.45\n"
       ]
      }
     ],
     "prompt_number": 269
    },
    {
     "cell_type": "code",
     "collapsed": false,
     "input": [
      "P_BoxIsBlue_given_Apple = P_Apple_given_BlueBox * P_BlueBox / P_Apple\n",
      "print \"P(Box is blue|Fruit is an apple) = \", P_BoxIsBlue_given_Apple"
     ],
     "language": "python",
     "metadata": {},
     "outputs": [
      {
       "output_type": "stream",
       "stream": "stdout",
       "text": [
        " P(Box is blue|Fruit is an apple) =  0.819295697949\n"
       ]
      }
     ],
     "prompt_number": 254
    },
    {
     "cell_type": "code",
     "collapsed": false,
     "input": [
      "P_BoxIsRed_given_Apple = P_Apple_given_RedBox * P_RedBox / P_Apple\n",
      "print \"P(Box is red|Fruit is an apple) = \", P_BoxIsRed_given_Apple"
     ],
     "language": "python",
     "metadata": {},
     "outputs": [
      {
       "output_type": "stream",
       "stream": "stdout",
       "text": [
        "P(Box is red|Fruit is an apple) =  0.18324678874\n"
       ]
      }
     ],
     "prompt_number": 270
    },
    {
     "cell_type": "code",
     "collapsed": false,
     "input": [
      "P_BoxIsRed_given_Orange = P_Orange_given_RedBox * P_RedBox / P_Orange\n",
      "print \"P(Box is red|Fruit is an orange) = \", P_BoxIsRed_given_Orange"
     ],
     "language": "python",
     "metadata": {},
     "outputs": [
      {
       "output_type": "stream",
       "stream": "stdout",
       "text": [
        "P(Box is red|Fruit is an orange) =  0.665813943142\n"
       ]
      }
     ],
     "prompt_number": 258
    },
    {
     "cell_type": "code",
     "collapsed": false,
     "input": [
      "P_BoxIsBlue_given_Orange = P_Orange_given_BlueBox * P_BlueBox / P_Orange\n",
      "print \"P(Box is blue|Fruit is an orange) = \", P_BoxIsBlue_given_Orange"
     ],
     "language": "python",
     "metadata": {},
     "outputs": [
      {
       "output_type": "stream",
       "stream": "stdout",
       "text": [
        "P(Box is blue|Fruit is an orange) =  0.334186056858\n"
       ]
      }
     ],
     "prompt_number": 259
    },
    {
     "cell_type": "code",
     "collapsed": false,
     "input": [
      "d = [[0.0,0.0,0.0,1.0,4.0,5.0,6.0,6.0,2.0],[3.0,6.0,8.0,8.0,5.0,3.0,1.0,0.0,0.0]]"
     ],
     "language": "python",
     "metadata": {},
     "outputs": [],
     "prompt_number": 148
    },
    {
     "cell_type": "code",
     "collapsed": false,
     "input": [
      "data = np.array(d)\n",
      "print \"data\", data\n",
      "print \"data 0\", data[0]\n",
      "print \"data 1\", data[1]\n",
      "print data.sum()\n",
      "print data.sum(axis=1)\n",
      "print data.sum(axis=0)\n",
      "x=[1,2]\n",
      "x1=np.arange(9)\n",
      "print x\n",
      "print x1"
     ],
     "language": "python",
     "metadata": {},
     "outputs": [
      {
       "output_type": "stream",
       "stream": "stdout",
       "text": [
        "data [[ 0.  0.  0.  1.  4.  5.  6.  6.  2.]\n",
        " [ 3.  6.  8.  8.  5.  3.  1.  0.  0.]]\n",
        "data 0 [ 0.  0.  0.  1.  4.  5.  6.  6.  2.]\n",
        "data 1 [ 3.  6.  8.  8.  5.  3.  1.  0.  0.]\n",
        "58.0\n",
        "[ 24.  34.]\n",
        "[ 3.  6.  8.  9.  9.  8.  7.  6.  2.]\n",
        "[1, 2]\n",
        "[0 1 2 3 4 5 6 7 8]\n"
       ]
      }
     ],
     "prompt_number": 149
    },
    {
     "cell_type": "markdown",
     "metadata": {},
     "source": [
      "###THE RULES OF PROBABILITY"
     ]
    },
    {
     "cell_type": "markdown",
     "metadata": {},
     "source": [
      "$\\text{Take 2 random variables: X, and Y}$"
     ]
    },
    {
     "cell_type": "markdown",
     "metadata": {},
     "source": [
      "$\\text{X can take on any of the values }x_{i}\\text{ where }i=1,...,M$"
     ]
    },
    {
     "cell_type": "markdown",
     "metadata": {},
     "source": [
      "$\\text{Y can take on any of the values }y_{j}\\text{ where }j=1,...,L$"
     ]
    },
    {
     "cell_type": "markdown",
     "metadata": {},
     "source": [
      "$\\text{Consider N trials where we sample from both X and Y}$"
     ]
    },
    {
     "cell_type": "markdown",
     "metadata": {},
     "source": [
      "$n_{ij}\\text{ is the subset of the N trials where X takes the value }x_{i}\\text{ and Y takes the value }y_{j}$"
     ]
    },
    {
     "cell_type": "markdown",
     "metadata": {},
     "source": [
      "$\\text{Irrespective of the values that Y takes, }c_{i}\\text{ is the number of trials where X takes the value }x_{i}$"
     ]
    },
    {
     "cell_type": "markdown",
     "metadata": {},
     "source": [
      "$\\text{Irrespective of the values that X takes, }r_{j}\\text{ is the number of trials where Y takes the value }y_{j}$"
     ]
    },
    {
     "cell_type": "markdown",
     "metadata": {},
     "source": [
      "###Joint Probability"
     ]
    },
    {
     "cell_type": "markdown",
     "metadata": {},
     "source": [
      "$\\text{The probability that X takes the value }x_{i}\\text{ AND Y takes the value }y_{j}\\text{. Denoted:}$"
     ]
    },
    {
     "cell_type": "markdown",
     "metadata": {},
     "source": [
      "$p(X=x_{i}, Y=y_{j})$"
     ]
    },
    {
     "cell_type": "markdown",
     "metadata": {},
     "source": [
      "$p(X=x_{i}, Y=y_{j})=\\frac{n_{ij}}{N}$"
     ]
    },
    {
     "cell_type": "markdown",
     "metadata": {},
     "source": [
      "$\\text{The probability that X takes the value }x_{i}\\text{ irrespective of the value of Y}\\text{. Denoted:}$"
     ]
    },
    {
     "cell_type": "markdown",
     "metadata": {},
     "source": [
      "$p(X=x_{i})$"
     ]
    },
    {
     "cell_type": "markdown",
     "metadata": {},
     "source": [
      "$p(X=x_{i})=\\frac{c_{i}}{N}$"
     ]
    },
    {
     "cell_type": "markdown",
     "metadata": {},
     "source": [
      "$c_{i} \\text{ may be expressed as the sum of the values of }n_{ij}\\text{ summed over all the values of j}$"
     ]
    },
    {
     "cell_type": "markdown",
     "metadata": {},
     "source": [
      "$c_{i}=\\sum_{j=1}^{L}n{ij}$"
     ]
    },
    {
     "cell_type": "markdown",
     "metadata": {},
     "source": [
      "$\\therefore p(X=x_{i})=\\frac{c_{i}}{N}=\\frac{\\sum_{j=1}^{L}n{ij}}{N}=\\sum_{j=1}^{L}\\frac{n_{ij}}{N}=\\sum_{j=1}^{L}p(X=x_{i},Y=y_{j})$"
     ]
    },
    {
     "cell_type": "markdown",
     "metadata": {},
     "source": [
      "###The SUM RULE: $p(X=x_{i})=\\sum_{j=1}^{L}p(X=x_{i},Y=y_{j})$"
     ]
    },
    {
     "cell_type": "markdown",
     "metadata": {},
     "source": [
      "$p(X=x_{i})\\text{ is called the MARGINAL PROBABILITY. Other variables, Y here, are being summed out or marginalized}$"
     ]
    },
    {
     "cell_type": "markdown",
     "metadata": {},
     "source": [
      "$\\text{Consider those instances for which }X=x_{i}\\text{, then the fraction of such instances for which }Y=y_{j}\\text{ is written }p(Y=y_{j}|X=x_{i})$"
     ]
    },
    {
     "cell_type": "markdown",
     "metadata": {},
     "source": [
      "$p(Y=y_{j}|X=x_{i})\\text{ is called the CONDITIONAL PROBABILITY.}$"
     ]
    },
    {
     "cell_type": "markdown",
     "metadata": {},
     "source": [
      "$p(Y=y_{j}|X=x_{i})=\\frac{n_{ij}}{c_{i}}$"
     ]
    },
    {
     "cell_type": "markdown",
     "metadata": {},
     "source": [
      "$\\therefore p(X=x_{i}, Y=y_{j})=\\frac{n_{ij}}{N}=\\frac{n_{ij}}{c_{i}}\\times\\frac{c_{i}}{N}=p(Y=y_{j}|X=x_{i})p(X=x_{i})$"
     ]
    },
    {
     "cell_type": "markdown",
     "metadata": {},
     "source": [
      "###The PRODUCT RULE: $p(X=x_{i}, Y=y_{j})=p(Y=y_{j}|X=x_{i})p(X=x_{i})$"
     ]
    },
    {
     "cell_type": "markdown",
     "metadata": {},
     "source": [
      "#RULES OF PROBABILITY:"
     ]
    },
    {
     "cell_type": "markdown",
     "metadata": {},
     "source": [
      "##Sum Rule: $P(X)=\\sum_{Y}P(X,Y)$"
     ]
    },
    {
     "cell_type": "markdown",
     "metadata": {},
     "source": [
      "##Product Rule: $P(X, Y)=P(Y|X)p(X)$"
     ]
    },
    {
     "cell_type": "markdown",
     "metadata": {},
     "source": [
      "#BAYES' THEOREM:"
     ]
    },
    {
     "cell_type": "markdown",
     "metadata": {},
     "source": [
      "$P(X,Y) = P(Y, X)$"
     ]
    },
    {
     "cell_type": "markdown",
     "metadata": {},
     "source": [
      "$P(X,Y) = P(Y|X)P(X)\\text{  and  }P(Y, X)=P(X|Y)P(Y)$"
     ]
    },
    {
     "cell_type": "markdown",
     "metadata": {},
     "source": [
      "$P(Y|X)P(X) = P(X|Y)P(Y)$"
     ]
    },
    {
     "cell_type": "markdown",
     "metadata": {},
     "source": [
      "##$\\therefore P(X|Y) = \\frac{P(Y|X)P(X)}{P(Y)}$"
     ]
    },
    {
     "cell_type": "markdown",
     "metadata": {},
     "source": [
      "$\\text{The denominator can be expressed in terms of the quantities appearing in the numerator:}$"
     ]
    },
    {
     "cell_type": "markdown",
     "metadata": {},
     "source": [
      "$P(Y)=\\sum_{X}P(Y|X)P(X)$"
     ]
    },
    {
     "cell_type": "markdown",
     "metadata": {},
     "source": [
      "##$\\therefore P(X|Y) = \\frac{P(Y|X)P(X)}{\\sum_{X}P(Y|X)P(X)}$"
     ]
    },
    {
     "cell_type": "code",
     "collapsed": false,
     "input": [
      "fig1 = plt.figure(1, figsize=(12,10))\n",
      "ax1 = plt.subplot(221)\n",
      "ax2 = plt.subplot(222)\n",
      "ax3 = plt.subplot(223)\n",
      "ax4 = plt.subplot(224)\n",
      "plt.subplots_adjust(left=0.00, right=1, wspace=0.5, hspace=0.5)\n",
      "ax1.bar(x, data.sum(axis=1))\n",
      "ax1.set_title(\"P(Y)\")\n",
      "ax1.set_xlim(0.8, 3)\n",
      "ax1.set_ylim(0, 35)\n",
      "\n",
      "ax2.bar(x1, data.sum(axis=0))\n",
      "ax2.set_title(\"P(X)\")\n",
      "ax2.set_xlim(-0.2, 9)\n",
      "ax2.set_ylim(0, 10)\n",
      "\n",
      "ax3.bar(x1, data[0])\n",
      "ax3.set_title(\"P(X|Y=0)\")\n",
      "ax3.set_xlim(-0.2, 9)\n",
      "ax3.set_ylim(0, 7)\n",
      "\n",
      "ax4.bar(x1, data[1])\n",
      "ax4.set_title(\"P(X|Y=1)\")\n",
      "ax4.set_xlim(-0.2, 9)\n",
      "ax4.set_ylim(0, 9)"
     ],
     "language": "python",
     "metadata": {},
     "outputs": [
      {
       "metadata": {},
       "output_type": "pyout",
       "prompt_number": 151,
       "text": [
        "(0, 9)"
       ]
      },
      {
       "metadata": {},
       "output_type": "display_data",
       "png": "[encoded data removed]",
       "text": [
        "<matplotlib.figure.Figure at 0x115270650>"
       ]
      }
     ],
     "prompt_number": 151
    },
    {
     "cell_type": "markdown",
     "metadata": {},
     "source": [
      "#INDEPENDENCE"
     ]
    },
    {
     "cell_type": "markdown",
     "metadata": {},
     "source": [
      "##$\\text{if }p(X, Y) = p(X)p(Y) \\text{ then X and Y are said to be independent}$"
     ]
    },
    {
     "cell_type": "markdown",
     "metadata": {},
     "source": [
      "$\\text{This means that }p(Y|X) = P(Y) \\text{ So the conditional distribution Y given X, is indeed independent of X}$"
     ]
    }
   ],
   "metadata": {}
  }
 ]
}