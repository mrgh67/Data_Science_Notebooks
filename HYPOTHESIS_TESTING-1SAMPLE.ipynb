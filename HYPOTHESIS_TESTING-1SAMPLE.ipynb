{
 "metadata": {
  "name": "",
  "signature": "sha256:bb982ab62db4edf544924633807fefb90556c4703c63c37e703642426c4738cf"
 },
 "nbformat": 3,
 "nbformat_minor": 0,
 "worksheets": [
  {
   "cells": [
    {
     "cell_type": "code",
     "collapsed": false,
     "input": [
      "from IPython.display import Latex\n",
      "from IPython.display import Math\n",
      "from scipy.stats import norm, t\n",
      "import numpy as np"
     ],
     "language": "python",
     "metadata": {},
     "outputs": [],
     "prompt_number": 30
    },
    {
     "cell_type": "markdown",
     "metadata": {},
     "source": [
      "##A neurologist is testing the effect of a drug on response time by injecting 100 rats with a unit dose of the drug, subjecting each to neurological stimulus, and recording its repsonse time. The neurologist knows that the mean response time for rats not injected with the drug is 1.2 seconds. The mean of the 100 injected rats' response times is 1.05 seconds with a sample standard deviation of 0.5 seconds. Do you think that the drug has an effect on response time?"
     ]
    },
    {
     "cell_type": "markdown",
     "metadata": {},
     "source": [
      "##$H_{0}\\text{: Drug has no effect} \\implies \\mu=1.2s \\text{ even with the drug}$"
     ]
    },
    {
     "cell_type": "markdown",
     "metadata": {},
     "source": [
      "##$H_{1}\\text{: Drug has an effect}\\implies \\mu \\neq 1.2s \\text{ when the drug is given}$"
     ]
    },
    {
     "cell_type": "code",
     "collapsed": false,
     "input": [
      "popMean = 1.2\n",
      "sampMean = 1.05\n",
      "s = 0.5\n",
      "N = 100"
     ],
     "language": "python",
     "metadata": {},
     "outputs": [],
     "prompt_number": 4
    },
    {
     "cell_type": "markdown",
     "metadata": {},
     "source": [
      "##$\\text{Assume }H_{0}\\text{ true - what is the probability of getting these results.}$"
     ]
    },
    {
     "cell_type": "markdown",
     "metadata": {},
     "source": [
      "##Consider the sampling distribution of the sampling mean. "
     ]
    },
    {
     "cell_type": "markdown",
     "metadata": {},
     "source": [
      "##$\\text{Has }\\mu_\\overline{x} = \\mu = 1.2s$"
     ]
    },
    {
     "cell_type": "code",
     "collapsed": false,
     "input": [
      "sampMean = popMean"
     ],
     "language": "python",
     "metadata": {},
     "outputs": [],
     "prompt_number": 3
    },
    {
     "cell_type": "markdown",
     "metadata": {},
     "source": [
      "##$\\sigma_{\\overline{x}} = \\frac{\\sigma}{\\sqrt{N}}\\approx \\frac{s}{\\sqrt{N}}=\\frac{s}{\\sqrt{100}}=\\frac{0.5}{10}=0.05=\\hat{\\sigma_{\\overline{x}}}$"
     ]
    },
    {
     "cell_type": "code",
     "collapsed": false,
     "input": [
      "sampStdDev = s/np.sqrt(N)\n",
      "print sampStdDev"
     ],
     "language": "python",
     "metadata": {},
     "outputs": [
      {
       "output_type": "stream",
       "stream": "stdout",
       "text": [
        "0.05\n"
       ]
      }
     ],
     "prompt_number": 7
    },
    {
     "cell_type": "markdown",
     "metadata": {},
     "source": [
      "##How many standard deviations is 1.05 seconds away from this mean?"
     ]
    },
    {
     "cell_type": "markdown",
     "metadata": {},
     "source": [
      "##$Z=\\frac{1.2-1.05}{0.05}=3$"
     ]
    },
    {
     "cell_type": "code",
     "collapsed": false,
     "input": [
      "z = (popMean - sampMean)/sampStdDev\n",
      "print z"
     ],
     "language": "python",
     "metadata": {},
     "outputs": [
      {
       "output_type": "stream",
       "stream": "stdout",
       "text": [
        "3.0\n"
       ]
      }
     ],
     "prompt_number": 8
    },
    {
     "cell_type": "markdown",
     "metadata": {},
     "source": [
      "##3 standard deviations from the mean"
     ]
    },
    {
     "cell_type": "markdown",
     "metadata": {},
     "source": [
      "##99.7% of the data falls within 3 standard deviations of the mean"
     ]
    },
    {
     "cell_type": "markdown",
     "metadata": {},
     "source": [
      "##The tails combined are, therefore, 0.3%, or 0.003"
     ]
    },
    {
     "cell_type": "markdown",
     "metadata": {},
     "source": [
      "##If null hypothesis is true there is less than a 1 in 300 chance that this occurred by chance, therefore we favor the alternative hypothesis"
     ]
    },
    {
     "cell_type": "markdown",
     "metadata": {},
     "source": [
      "##p-value is 0.003"
     ]
    },
    {
     "cell_type": "code",
     "collapsed": false,
     "input": [
      "print popMean\n",
      "print sampStdDev\n",
      "ULthreeStdDev = popMean + (3.0 * sampStdDev)\n",
      "print ULthreeStdDev\n",
      "LLthreeStdDev = popMean - (3.0 * sampStdDev)\n",
      "print LLthreeStdDev"
     ],
     "language": "python",
     "metadata": {},
     "outputs": [
      {
       "output_type": "stream",
       "stream": "stdout",
       "text": [
        "1.2\n",
        "0.05\n",
        "1.35\n",
        "1.05\n"
       ]
      }
     ],
     "prompt_number": 18
    },
    {
     "cell_type": "code",
     "collapsed": false,
     "input": [
      "for i in range(3):\n",
      "    v = norm.cdf(float(i+1))\n",
      "    v -= 0.5\n",
      "    #print v\n",
      "    v *= 2.\n",
      "    v *= 100.\n",
      "    print \"%d standard deviations of the mean constitute %0.2f%% of the data\"% (i+1, v)"
     ],
     "language": "python",
     "metadata": {},
     "outputs": [
      {
       "output_type": "stream",
       "stream": "stdout",
       "text": [
        "1 standard deviations of the mean constitute 68.27% of the data\n",
        "2 standard deviations of the mean constitute 95.45% of the data\n",
        "3 standard deviations of the mean constitute 99.73% of the data\n"
       ]
      }
     ],
     "prompt_number": 29
    },
    {
     "cell_type": "code",
     "collapsed": false,
     "input": [
      "v = norm.cdf(3.0)\n",
      "print \"v is %0.5f\"%(v),\n",
      "print \"(1-v) is %0.5f\"%(1.-v)"
     ],
     "language": "python",
     "metadata": {},
     "outputs": [
      {
       "output_type": "stream",
       "stream": "stdout",
       "text": [
        "v is 0.99865 (1-v) is 0.00135\n"
       ]
      }
     ],
     "prompt_number": 24
    },
    {
     "cell_type": "markdown",
     "metadata": {},
     "source": [
      "##The above is a TWO-TAILED test"
     ]
    },
    {
     "cell_type": "markdown",
     "metadata": {},
     "source": [
      "##A ONE-TAILED test would be:"
     ]
    },
    {
     "cell_type": "markdown",
     "metadata": {},
     "source": [
      "##$H_{0}\\text{: Drug has no effect} \\implies \\mu=1.2s \\text{ even with the drug}$"
     ]
    },
    {
     "cell_type": "markdown",
     "metadata": {},
     "source": [
      "##$H_{1}\\text{: Drug lowers repsonse time}\\implies \\mu \\lt 1.2s \\text{ when the drug is given}$"
     ]
    },
    {
     "cell_type": "markdown",
     "metadata": {},
     "source": [
      "##if H0 is true, probability of getting a result lower than 1.05 seconds, is 0.15%, oe 0.0015"
     ]
    },
    {
     "cell_type": "markdown",
     "metadata": {},
     "source": [
      "##TYPE I ERROR - reject the null hypothesis even though it is true."
     ]
    },
    {
     "cell_type": "markdown",
     "metadata": {},
     "source": [
      "##p-value represents the probability of making a Type I error."
     ]
    },
    {
     "cell_type": "markdown",
     "metadata": {},
     "source": [
      "##Z-STATISTIC vs T-STATISTIC"
     ]
    },
    {
     "cell_type": "markdown",
     "metadata": {},
     "source": [
      "#Z-STATISTIC:"
     ]
    },
    {
     "cell_type": "markdown",
     "metadata": {},
     "source": [
      "##$\\frac{\\overline{x}-\\mu_{\\overline{x}}}{\\sigma_{\\overline{x}}}$"
     ]
    },
    {
     "cell_type": "markdown",
     "metadata": {},
     "source": [
      "##$\\sigma_{\\overline{x}}=\\frac{\\sigma}{\\sqrt{N}}$"
     ]
    },
    {
     "cell_type": "markdown",
     "metadata": {},
     "source": [
      "##$Z=\\frac{\\overline{x}-\\mu_{\\overline{x}}}{\\frac{\\sigma}{\\sqrt{N}}}\\approx \\frac{\\overline{x}-\\mu_{\\overline{x}}}{\\frac{s}{\\sqrt{N}}} \\text{ if } N\\gt30$"
     ]
    },
    {
     "cell_type": "markdown",
     "metadata": {},
     "source": [
      "##Z is normally distributed"
     ]
    },
    {
     "cell_type": "markdown",
     "metadata": {},
     "source": [
      "#T-STATISTIC:"
     ]
    },
    {
     "cell_type": "markdown",
     "metadata": {},
     "source": [
      "##$T=\\frac{\\overline{x}-\\mu_{\\overline{x}}}{\\frac{\\sigma}{\\sqrt{N}}}\\approx \\frac{\\overline{x}-\\mu_{\\overline{x}}}{\\frac{s}{\\sqrt{N}}} \\text{ if } N\\leq 30$"
     ]
    },
    {
     "cell_type": "markdown",
     "metadata": {},
     "source": [
      "##T is not normally distributed but subject to the t-distribution"
     ]
    },
    {
     "cell_type": "code",
     "collapsed": false,
     "input": [
      "for i in range(3):\n",
      "    v = t.cdf(float(i+1),99)\n",
      "    v -= 0.5\n",
      "    #print v\n",
      "    v *= 2.\n",
      "    v *= 100.\n",
      "    print \"%d standard deviations of the mean constitute %0.2f%% of the data\"% (i+1, v)"
     ],
     "language": "python",
     "metadata": {},
     "outputs": [
      {
       "output_type": "stream",
       "stream": "stdout",
       "text": [
        "1 standard deviations of the mean constitute 68.03% of the data\n",
        "2 standard deviations of the mean constitute 95.18% of the data\n",
        "3 standard deviations of the mean constitute 99.66% of the data\n"
       ]
      }
     ],
     "prompt_number": 33
    },
    {
     "cell_type": "markdown",
     "metadata": {},
     "source": [
      "#Example"
     ]
    },
    {
     "cell_type": "code",
     "collapsed": false,
     "input": [
      "data = np.array([15.6, 16.2, 22.5, 20.5, 16.4, 19.4, 16.6, 17.9, 12.7, 13.9])"
     ],
     "language": "python",
     "metadata": {},
     "outputs": [],
     "prompt_number": 36
    },
    {
     "cell_type": "code",
     "collapsed": false,
     "input": [
      "print \"data array is \", data\n",
      "data1 = data-data.mean()\n",
      "print \"data1 is data - mean of data : \", data1\n",
      "data2 = data1**2\n",
      "print \"data2 is data - mean of data squared :\", data2\n",
      "print \"sum of squared errors: \", data2.sum()\n",
      "print \"variance of data = \", data2.sum()/9.\n",
      "dataStdDev = np.sqrt(data2.sum()/9.)\n",
      "print \"standard deviation of data = \", dataStdDev\n",
      "dataMean = data.mean()\n",
      "print \"np mean = \", dataMean\n",
      "print \"np sum of data = \", data.sum()\n",
      "popMean = 20\n",
      "print \"population mean is \", popMean\n",
      "alpha = 0.01\n",
      "print \"desire alpha is \", alpha\n",
      "N = len(data)\n",
      "print \"number of data points = \", N\n",
      "degreesOfFreedom = N - 1\n",
      "print \"number of degrees of freedom is \", degreesOfFreedom\n",
      "\n",
      "print \"np std deviation is \", data.std()"
     ],
     "language": "python",
     "metadata": {},
     "outputs": [
      {
       "output_type": "stream",
       "stream": "stdout",
       "text": [
        "data array is  [ 15.6  16.2  22.5  20.5  16.4  19.4  16.6  17.9  12.7  13.9]\n",
        "data1 is data - mean of data :  [-1.57 -0.97  5.33  3.33 -0.77  2.23 -0.57  0.73 -4.47 -3.27]\n",
        "data2 is data - mean of data squared : [  2.4649   0.9409  28.4089  11.0889   0.5929   4.9729   0.3249   0.5329\n",
        "  19.9809  10.6929]\n",
        "sum of squared errors:  80.001\n",
        "variance of data =  8.889\n",
        "standard deviation of data =  2.98144260384\n",
        "np mean =  17.17\n",
        "np sum of data =  171.7\n",
        "population mean is  20\n",
        "desire alpha is  0.01\n",
        "number of data points =  10\n",
        "number of degrees of freedom is  9\n",
        "np std deviation is  2.82844480236\n"
       ]
      }
     ],
     "prompt_number": 91
    },
    {
     "cell_type": "markdown",
     "metadata": {},
     "source": [
      "##$H0:\\mu  = 20 ppm$\n",
      "\n",
      "##$H1:\\mu \\neq 20 ppm$"
     ]
    },
    {
     "cell_type": "code",
     "collapsed": false,
     "input": [
      "sampMean = popMean\n",
      "sampStdDev = dataStdDev/np.sqrt(N)\n",
      "print sampMean\n",
      "print sampStdDev"
     ],
     "language": "python",
     "metadata": {},
     "outputs": [
      {
       "output_type": "stream",
       "stream": "stdout",
       "text": [
        "20\n",
        "0.94281493412\n"
       ]
      }
     ],
     "prompt_number": 68
    },
    {
     "cell_type": "code",
     "collapsed": false,
     "input": [
      "zstatistic = (dataMean - sampMean)/sampStdDev\n",
      "print zstatistic"
     ],
     "language": "python",
     "metadata": {},
     "outputs": [
      {
       "output_type": "stream",
       "stream": "stdout",
       "text": [
        "-3.00164952589\n"
       ]
      }
     ],
     "prompt_number": 69
    },
    {
     "cell_type": "code",
     "collapsed": false,
     "input": [
      "pValue = 1.0 - t.cdf(-zstatistic, degreesOfFreedom)\n",
      "print pValue"
     ],
     "language": "python",
     "metadata": {},
     "outputs": [
      {
       "output_type": "stream",
       "stream": "stdout",
       "text": [
        "0.00745820712445\n"
       ]
      }
     ],
     "prompt_number": 70
    },
    {
     "cell_type": "markdown",
     "metadata": {},
     "source": [
      "##Therefore reject the Null Hypothesis"
     ]
    },
    {
     "cell_type": "code",
     "collapsed": false,
     "input": [
      "t.ppf(0.99, 9)"
     ],
     "language": "python",
     "metadata": {},
     "outputs": [
      {
       "metadata": {},
       "output_type": "pyout",
       "prompt_number": 71,
       "text": [
        "2.8214379233005493"
       ]
      }
     ],
     "prompt_number": 71
    },
    {
     "cell_type": "code",
     "collapsed": false,
     "input": [
      "#check\n",
      "t.cdf(2.8214379233005493, 9)"
     ],
     "language": "python",
     "metadata": {},
     "outputs": [
      {
       "metadata": {},
       "output_type": "pyout",
       "prompt_number": 72,
       "text": [
        "0.98999999997183286"
       ]
      }
     ],
     "prompt_number": 72
    },
    {
     "cell_type": "markdown",
     "metadata": {},
     "source": [
      "##95% Confidence Interval"
     ]
    },
    {
     "cell_type": "code",
     "collapsed": false,
     "input": [
      "v = t.ppf(0.975, 9)\n",
      "print v"
     ],
     "language": "python",
     "metadata": {},
     "outputs": [
      {
       "output_type": "stream",
       "stream": "stdout",
       "text": [
        "2.26215716274\n"
       ]
      }
     ],
     "prompt_number": 83
    },
    {
     "cell_type": "code",
     "collapsed": false,
     "input": [
      "temp = v * sampStdDev\n",
      "print sampStdDev\n",
      "print temp"
     ],
     "language": "python",
     "metadata": {},
     "outputs": [
      {
       "output_type": "stream",
       "stream": "stdout",
       "text": [
        "0.94281493412\n",
        "2.13279555636\n"
       ]
      }
     ],
     "prompt_number": 89
    },
    {
     "cell_type": "code",
     "collapsed": false,
     "input": [
      "UL = temp + dataMean\n",
      "LL = dataMean - temp\n",
      "print \"%0.4f < mu < %0.4f\"%(LL, UL)"
     ],
     "language": "python",
     "metadata": {},
     "outputs": [
      {
       "output_type": "stream",
       "stream": "stdout",
       "text": [
        "15.0372 < mu < 19.3028\n"
       ]
      }
     ],
     "prompt_number": 94
    },
    {
     "cell_type": "markdown",
     "metadata": {},
     "source": [
      "#Beware proportions"
     ]
    },
    {
     "cell_type": "code",
     "collapsed": false,
     "input": [
      "print norm.cdf(2.14)\n",
      "print 1. - norm.cdf(2.14)\n",
      "print norm.ppf(0.95)"
     ],
     "language": "python",
     "metadata": {},
     "outputs": [
      {
       "output_type": "stream",
       "stream": "stdout",
       "text": [
        "0.983822616628\n",
        "0.0161773833722\n",
        "1.64485362695\n"
       ]
      }
     ],
     "prompt_number": 102
    }
   ],
   "metadata": {}
  }
 ]
}