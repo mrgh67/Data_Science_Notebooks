{
 "metadata": {
  "name": "",
  "signature": "sha256:bfb2c7296f24d350d79a99fd9001ae8948047f94f097e8289f3f0203b60788ad"
 },
 "nbformat": 3,
 "nbformat_minor": 0,
 "worksheets": [
  {
   "cells": [
    {
     "cell_type": "code",
     "collapsed": false,
     "input": [
      "from gensim import corpora, models, similarities\n",
      "import logging\n",
      "logging.basicConfig(format='%(asctime)s : %(levelname)s : %(message)s', level=logging.DEBUG)"
     ],
     "language": "python",
     "metadata": {},
     "outputs": [],
     "prompt_number": 68
    },
    {
     "cell_type": "code",
     "collapsed": false,
     "input": [
      "documents = [\"Human machine interface for lab abc computer applications\",\n",
      "              \"A survey of user opinion of computer system response time\",\n",
      "              \"The EPS user interface management system\",\n",
      "              \"System and human system engineering testing of EPS\",\n",
      "              \"Relation of user perceived response time to error measurement\",\n",
      "              \"The generation of random binary unordered trees\",\n",
      "              \"The intersection graph of paths in trees\",\n",
      "              \"Graph minors IV Widths of trees and well quasi ordering\",\n",
      "              \"Graph minors A survey\"]"
     ],
     "language": "python",
     "metadata": {},
     "outputs": [],
     "prompt_number": 3
    },
    {
     "cell_type": "markdown",
     "metadata": {},
     "source": [
      "###Reducing a list of lists to a single list"
     ]
    },
    {
     "cell_type": "code",
     "collapsed": false,
     "input": [
      "l = [[1,2,3],[4,5,6], [7], [8,9]]"
     ],
     "language": "python",
     "metadata": {},
     "outputs": [],
     "prompt_number": 47
    },
    {
     "cell_type": "code",
     "collapsed": false,
     "input": [
      "[item for sublist in l for item in sublist]"
     ],
     "language": "python",
     "metadata": {},
     "outputs": [
      {
       "metadata": {},
       "output_type": "pyout",
       "prompt_number": 48,
       "text": [
        "[1, 2, 3, 4, 5, 6, 7, 8, 9]"
       ]
      }
     ],
     "prompt_number": 48
    },
    {
     "cell_type": "code",
     "collapsed": false,
     "input": [
      "# remove common words and tokenize\n",
      "stoplist = set('for a of the and to in'.split())\n",
      "print \"the stoplist is \", stoplist\n",
      "\n",
      "#test = [[word for word in document.lower().split()]for document in documents]\n",
      "#print \"\\n\\ntest is \",test\n",
      "\n",
      "texts = [[word for word in document.lower().split() if word not in stoplist] for document in documents]\n",
      "print \"\\n\\ntexts\", texts\n",
      "\n",
      "\n",
      "# remove words that appear only once\n",
      "all_tokens = [word for sublist in texts for word in sublist]\n",
      "print \"\\n\\n all tokens is \", all_tokens\n",
      "print \"all tokens system count = \", all_tokens.count(\"system\")\n",
      "print \"all minors system count = \", all_tokens.count(\"minors\"), \n",
      "\n",
      "print \"\\n\\n set all tokens is \", set(all_tokens)\n",
      "\n",
      "#for word in all_tokens:\n",
      "#    print word, all_tokens.count(word)\n",
      "\n",
      "\n",
      "tokens_once = set(word for word in all_tokens if all_tokens.count(word) == 1)\n",
      "print \"\\n\\n tokens once is \", tokens_once\n",
      "\n",
      "print \"\\n\\n\"\n",
      "texts = [[word for word in text if word not in tokens_once]\n",
      "          for text in texts]\n",
      "for t in texts:\n",
      "    print t"
     ],
     "language": "python",
     "metadata": {},
     "outputs": [
      {
       "output_type": "stream",
       "stream": "stdout",
       "text": [
        "the stoplist is  set(['a', 'and', 'for', 'of', 'to', 'in', 'the'])\n",
        "\n",
        "\n",
        "texts [['human', 'machine', 'interface', 'lab', 'abc', 'computer', 'applications'], ['survey', 'user', 'opinion', 'computer', 'system', 'response', 'time'], ['eps', 'user', 'interface', 'management', 'system'], ['system', 'human', 'system', 'engineering', 'testing', 'eps'], ['relation', 'user', 'perceived', 'response', 'time', 'error', 'measurement'], ['generation', 'random', 'binary', 'unordered', 'trees'], ['intersection', 'graph', 'paths', 'trees'], ['graph', 'minors', 'iv', 'widths', 'trees', 'well', 'quasi', 'ordering'], ['graph', 'minors', 'survey']]\n",
        "\n",
        "\n",
        " all tokens is  ['human', 'machine', 'interface', 'lab', 'abc', 'computer', 'applications', 'survey', 'user', 'opinion', 'computer', 'system', 'response', 'time', 'eps', 'user', 'interface', 'management', 'system', 'system', 'human', 'system', 'engineering', 'testing', 'eps', 'relation', 'user', 'perceived', 'response', 'time', 'error', 'measurement', 'generation', 'random', 'binary', 'unordered', 'trees', 'intersection', 'graph', 'paths', 'trees', 'graph', 'minors', 'iv', 'widths', 'trees', 'well', 'quasi', 'ordering', 'graph', 'minors', 'survey']\n",
        "all tokens system count =  4\n",
        "all minors system count =  2 \n",
        "\n",
        " set all tokens is  set(['minors', 'generation', 'testing', 'iv', 'engineering', 'computer', 'relation', 'human', 'measurement', 'unordered', 'binary', 'abc', 'ordering', 'graph', 'system', 'machine', 'quasi', 'random', 'paths', 'error', 'trees', 'lab', 'applications', 'management', 'user', 'interface', 'intersection', 'response', 'perceived', 'widths', 'well', 'eps', 'survey', 'time', 'opinion'])\n",
        "\n",
        "\n",
        " tokens once is  set(['generation', 'random', 'iv', 'engineering', 'relation', 'measurement', 'unordered', 'binary', 'abc', 'ordering', 'machine', 'quasi', 'testing', 'paths', 'lab', 'applications', 'management', 'intersection', 'perceived', 'widths', 'well', 'error', 'opinion'])\n",
        "\n",
        "\n",
        "\n",
        "['human', 'interface', 'computer']\n",
        "['survey', 'user', 'computer', 'system', 'response', 'time']\n",
        "['eps', 'user', 'interface', 'system']\n",
        "['system', 'human', 'system', 'eps']\n",
        "['user', 'response', 'time']\n",
        "['trees']\n",
        "['graph', 'trees']\n",
        "['graph', 'minors', 'trees']\n",
        "['graph', 'minors', 'survey']\n"
       ]
      }
     ],
     "prompt_number": 66
    },
    {
     "cell_type": "code",
     "collapsed": false,
     "input": [
      "dictionary = corpora.Dictionary(texts)\n",
      "print \"dictionary is \",dictionary\n",
      "print \"\\n\\n dictionary to token\", (dictionary.token2id)"
     ],
     "language": "python",
     "metadata": {},
     "outputs": [
      {
       "output_type": "stream",
       "stream": "stdout",
       "text": [
        "dictionary is  Dictionary(12 unique tokens: [u'minors', u'graph', u'system', u'trees', u'eps']...)\n",
        "\n",
        "\n",
        " dictionary to token {u'minors': 11, u'graph': 10, u'system': 5, u'trees': 9, u'eps': 8, u'computer': 0, u'survey': 4, u'user': 7, u'human': 1, u'time': 6, u'interface': 2, u'response': 3}\n"
       ]
      }
     ],
     "prompt_number": 71
    },
    {
     "cell_type": "code",
     "collapsed": false,
     "input": [
      "corpus = [dictionary.doc2bow(text) for text in texts]\n",
      "print(corpus)"
     ],
     "language": "python",
     "metadata": {},
     "outputs": [
      {
       "output_type": "stream",
       "stream": "stdout",
       "text": [
        "[[(0, 1), (1, 1), (2, 1)], [(0, 1), (3, 1), (4, 1), (5, 1), (6, 1), (7, 1)], [(2, 1), (5, 1), (7, 1), (8, 1)], [(1, 1), (5, 2), (8, 1)], [(3, 1), (6, 1), (7, 1)], [(9, 1)], [(9, 1), (10, 1)], [(9, 1), (10, 1), (11, 1)], [(4, 1), (10, 1), (11, 1)]]\n"
       ]
      }
     ],
     "prompt_number": 73
    },
    {
     "cell_type": "code",
     "collapsed": false,
     "input": [
      "lda_model = models.ldamodel.LdaModel(corpus, id2word=dictionary, num_topics=3)"
     ],
     "language": "python",
     "metadata": {},
     "outputs": [
      {
       "output_type": "stream",
       "stream": "stderr",
       "text": [
        "WARNING:gensim.models.ldamodel:too few updates, training might not converge; consider increasing the number of passes or iterations to improve accuracy\n"
       ]
      }
     ],
     "prompt_number": 75
    },
    {
     "cell_type": "code",
     "collapsed": false,
     "input": [
      "for topic in lda_model.print_topics():\n",
      "    print \"\\n\\ntopic is \\n\", topic"
     ],
     "language": "python",
     "metadata": {},
     "outputs": [
      {
       "output_type": "stream",
       "stream": "stdout",
       "text": [
        "\n",
        "\n",
        "topic is \n",
        "0.126*interface + 0.119*trees + 0.118*system + 0.117*user + 0.117*eps + 0.112*graph + 0.107*minors + 0.042*human + 0.041*computer + 0.034*response\n",
        "\n",
        "\n",
        "topic is \n",
        "0.141*survey + 0.134*computer + 0.102*graph + 0.099*minors + 0.089*human + 0.088*interface + 0.070*system + 0.070*user + 0.068*time + 0.065*response\n",
        "\n",
        "\n",
        "topic is \n",
        "0.167*system + 0.125*trees + 0.107*response + 0.107*user + 0.105*time + 0.083*graph + 0.081*human + 0.079*eps + 0.046*survey + 0.046*computer\n"
       ]
      }
     ],
     "prompt_number": 78
    }
   ],
   "metadata": {}
  }
 ]
}