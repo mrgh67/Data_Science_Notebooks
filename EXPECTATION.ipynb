{
 "metadata": {
  "name": "",
  "signature": "sha256:7bf6b4f9ea134959d95b9d5c10c72c37a62a017c9cc3a0b5bdec80e8ccf07c1f"
 },
 "nbformat": 3,
 "nbformat_minor": 0,
 "worksheets": [
  {
   "cells": [
    {
     "cell_type": "markdown",
     "metadata": {},
     "source": [
      "###The average value of some function $f(x)$ under a probability distribution $p(x)$ is called the EXPECTATION OF $f(X)$\n",
      "\n",
      "###Denoted $\\mathop{\\mathbb{E}}[f]$\n",
      "\n",
      "###This is just the averaged weighted by the probability"
     ]
    }
   ],
   "metadata": {}
  }
 ]
}