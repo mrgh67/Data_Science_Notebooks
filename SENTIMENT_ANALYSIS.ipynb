{
 "metadata": {
  "name": "",
  "signature": "sha256:e281dbaaa990eb296d62e8c572f0810e1a04a3821bd53865cbcbb69a564338b8"
 },
 "nbformat": 3,
 "nbformat_minor": 0,
 "worksheets": [
  {
   "cells": [
    {
     "cell_type": "markdown",
     "metadata": {},
     "source": [
      "## Tweet Sentiment Analysis\n",
      "\n",
      "Create a twitter classifier with naive bayes and check the sentiment for a keyword of your choice.\n",
      "Train your classifier with the \"tweet_training.csv\" file\n",
      "\n",
      "Sentiment is described as \"polarity,\" where:\n",
      "\n",
      "- \"0\" = negative\n",
      "- \"4\" = positive"
     ]
    },
    {
     "cell_type": "code",
     "collapsed": false,
     "input": [
      "import numpy as np\n",
      "import pandas as pd\n",
      "from sklearn.feature_extraction.text import CountVectorizer\n",
      "from sklearn.cross_validation import train_test_split\n",
      "from sklearn.naive_bayes import MultinomialNB\n",
      "from sklearn.naive_bayes import BernoulliNB\n",
      "from sklearn.linear_model import LogisticRegression"
     ],
     "language": "python",
     "metadata": {},
     "outputs": [],
     "prompt_number": 46
    },
    {
     "cell_type": "code",
     "collapsed": false,
     "input": [
      "tweets = pd.read_csv('https://raw.githubusercontent.com/vinharng/fall_2014_lessons/master/datasets/tweet_training.csv', delimiter=';', index_col='id')"
     ],
     "language": "python",
     "metadata": {},
     "outputs": [],
     "prompt_number": 2
    },
    {
     "cell_type": "code",
     "collapsed": false,
     "input": [
      "tweets.describe()"
     ],
     "language": "python",
     "metadata": {},
     "outputs": [
      {
       "html": [
        "<div style=\"max-height:1000px;max-width:1500px;overflow:auto;\">\n",
        "<table border=\"1\" class=\"dataframe\">\n",
        "  <thead>\n",
        "    <tr style=\"text-align: right;\">\n",
        "      <th></th>\n",
        "      <th>polarity</th>\n",
        "    </tr>\n",
        "  </thead>\n",
        "  <tbody>\n",
        "    <tr>\n",
        "      <th>count</th>\n",
        "      <td> 2034.000000</td>\n",
        "    </tr>\n",
        "    <tr>\n",
        "      <th>mean</th>\n",
        "      <td>    1.242871</td>\n",
        "    </tr>\n",
        "    <tr>\n",
        "      <th>std</th>\n",
        "      <td>    1.851605</td>\n",
        "    </tr>\n",
        "    <tr>\n",
        "      <th>min</th>\n",
        "      <td>    0.000000</td>\n",
        "    </tr>\n",
        "    <tr>\n",
        "      <th>25%</th>\n",
        "      <td>    0.000000</td>\n",
        "    </tr>\n",
        "    <tr>\n",
        "      <th>50%</th>\n",
        "      <td>    0.000000</td>\n",
        "    </tr>\n",
        "    <tr>\n",
        "      <th>75%</th>\n",
        "      <td>    4.000000</td>\n",
        "    </tr>\n",
        "    <tr>\n",
        "      <th>max</th>\n",
        "      <td>    4.000000</td>\n",
        "    </tr>\n",
        "  </tbody>\n",
        "</table>\n",
        "</div>"
       ],
       "metadata": {},
       "output_type": "pyout",
       "prompt_number": 104,
       "text": [
        "          polarity\n",
        "count  2034.000000\n",
        "mean      1.242871\n",
        "std       1.851605\n",
        "min       0.000000\n",
        "25%       0.000000\n",
        "50%       0.000000\n",
        "75%       4.000000\n",
        "max       4.000000"
       ]
      }
     ],
     "prompt_number": 104
    },
    {
     "cell_type": "code",
     "collapsed": false,
     "input": [
      "tweets[0:10]"
     ],
     "language": "python",
     "metadata": {},
     "outputs": [
      {
       "html": [
        "<div style=\"max-height:1000px;max-width:1500px;overflow:auto;\">\n",
        "<table border=\"1\" class=\"dataframe\">\n",
        "  <thead>\n",
        "    <tr style=\"text-align: right;\">\n",
        "      <th></th>\n",
        "      <th>polarity</th>\n",
        "      <th>tweet</th>\n",
        "    </tr>\n",
        "    <tr>\n",
        "      <th>id</th>\n",
        "      <th></th>\n",
        "      <th></th>\n",
        "    </tr>\n",
        "  </thead>\n",
        "  <tbody>\n",
        "    <tr>\n",
        "      <th>1467933112</th>\n",
        "      <td> 0</td>\n",
        "      <td> the angel is going to miss the athlete this we...</td>\n",
        "    </tr>\n",
        "    <tr>\n",
        "      <th>2323395086</th>\n",
        "      <td> 0</td>\n",
        "      <td> It looks as though Shaq is getting traded to C...</td>\n",
        "    </tr>\n",
        "    <tr>\n",
        "      <th>1467968979</th>\n",
        "      <td> 0</td>\n",
        "      <td>    @clarianne APRIL 9TH ISN'T COMING SOON ENOUGH </td>\n",
        "    </tr>\n",
        "    <tr>\n",
        "      <th>1990283756</th>\n",
        "      <td> 0</td>\n",
        "      <td> drinking a McDonalds coffee and not understand...</td>\n",
        "    </tr>\n",
        "    <tr>\n",
        "      <th>1988884918</th>\n",
        "      <td> 0</td>\n",
        "      <td> So dissapointed Taylor Swift doesnt have a Twi...</td>\n",
        "    </tr>\n",
        "    <tr>\n",
        "      <th>1467984364</th>\n",
        "      <td> 0</td>\n",
        "      <td> Wishes I was on the Spring Fling Tour with Daw...</td>\n",
        "    </tr>\n",
        "    <tr>\n",
        "      <th>1964951623</th>\n",
        "      <td> 0</td>\n",
        "      <td> got a sniffle, got the kids and hubby just lef...</td>\n",
        "    </tr>\n",
        "    <tr>\n",
        "      <th>1881133744</th>\n",
        "      <td> 0</td>\n",
        "      <td> i've only been in sydney for 3 hrs but I miss ...</td>\n",
        "    </tr>\n",
        "    <tr>\n",
        "      <th>1753802024</th>\n",
        "      <td> 0</td>\n",
        "      <td>                      xboxtweet not working again </td>\n",
        "    </tr>\n",
        "    <tr>\n",
        "      <th>1980497384</th>\n",
        "      <td> 0</td>\n",
        "      <td>       R.I.P to lebron/kobe puppet commercials... </td>\n",
        "    </tr>\n",
        "  </tbody>\n",
        "</table>\n",
        "</div>"
       ],
       "metadata": {},
       "output_type": "pyout",
       "prompt_number": 105,
       "text": [
        "            polarity                                              tweet\n",
        "id                                                                     \n",
        "1467933112         0  the angel is going to miss the athlete this we...\n",
        "2323395086         0  It looks as though Shaq is getting traded to C...\n",
        "1467968979         0     @clarianne APRIL 9TH ISN'T COMING SOON ENOUGH \n",
        "1990283756         0  drinking a McDonalds coffee and not understand...\n",
        "1988884918         0  So dissapointed Taylor Swift doesnt have a Twi...\n",
        "1467984364         0  Wishes I was on the Spring Fling Tour with Daw...\n",
        "1964951623         0  got a sniffle, got the kids and hubby just lef...\n",
        "1881133744         0  i've only been in sydney for 3 hrs but I miss ...\n",
        "1753802024         0                       xboxtweet not working again \n",
        "1980497384         0        R.I.P to lebron/kobe puppet commercials... "
       ]
      }
     ],
     "prompt_number": 105
    },
    {
     "cell_type": "code",
     "collapsed": false,
     "input": [
      "tweets[tweets.polarity == 4].count()"
     ],
     "language": "python",
     "metadata": {},
     "outputs": [
      {
       "metadata": {},
       "output_type": "pyout",
       "prompt_number": 16,
       "text": [
        "polarity    632\n",
        "tweet       632\n",
        "dtype: int64"
       ]
      }
     ],
     "prompt_number": 16
    },
    {
     "cell_type": "code",
     "collapsed": false,
     "input": [
      "tweets[tweets.polarity == 0].count()"
     ],
     "language": "python",
     "metadata": {},
     "outputs": [
      {
       "metadata": {},
       "output_type": "pyout",
       "prompt_number": 17,
       "text": [
        "polarity    1402\n",
        "tweet       1402\n",
        "dtype: int64"
       ]
      }
     ],
     "prompt_number": 17
    },
    {
     "cell_type": "code",
     "collapsed": false,
     "input": [
      "vectorizer = CountVectorizer(ngram_range=(1,2),stop_words='english')\n",
      "# need to set the output of this method to a variable\n",
      "# vector of all tweets\n",
      "tweets_vectorizer = vectorizer.fit(tweets.tweet)\n",
      "print tweets_vectorizer.get_params()\n",
      "print tweets_vectorizer"
     ],
     "language": "python",
     "metadata": {},
     "outputs": [
      {
       "output_type": "stream",
       "stream": "stdout",
       "text": [
        "{'binary': False, 'lowercase': True, 'stop_words': 'english', 'vocabulary': None, 'tokenizer': None, 'decode_error': u'strict', 'dtype': <type 'numpy.int64'>, 'charset_error': None, 'charset': None, 'analyzer': u'word', 'encoding': u'utf-8', 'ngram_range': (1, 2), 'max_df': 1.0, 'min_df': 1, 'max_features': None, 'input': u'content', 'strip_accents': None, 'token_pattern': u'(?u)\\\\b\\\\w\\\\w+\\\\b', 'preprocessor': None}\n",
        "CountVectorizer(analyzer=u'word', binary=False, charset=None,\n",
        "        charset_error=None, decode_error=u'strict',\n",
        "        dtype=<type 'numpy.int64'>, encoding=u'utf-8', input=u'content',\n",
        "        lowercase=True, max_df=1.0, max_features=None, min_df=1,\n",
        "        ngram_range=(1, 2), preprocessor=None, stop_words='english',\n",
        "        strip_accents=None, token_pattern=u'(?u)\\\\b\\\\w\\\\w+\\\\b',\n",
        "        tokenizer=None, vocabulary=None)\n"
       ]
      }
     ],
     "prompt_number": 147
    },
    {
     "cell_type": "code",
     "collapsed": false,
     "input": [
      "fn = tweets_vectorizer.get_feature_names()\n",
      "print len(fn)\n",
      "fn[2000:2010]"
     ],
     "language": "python",
     "metadata": {},
     "outputs": [
      {
       "output_type": "stream",
       "stream": "stdout",
       "text": [
        "18051\n"
       ]
      },
      {
       "metadata": {},
       "output_type": "pyout",
       "prompt_number": 148,
       "text": [
        "[u'brilliant weekend',\n",
        " u'bring',\n",
        " u'bring believe',\n",
        " u'bring doughnuts',\n",
        " u'bring dublin',\n",
        " u'bring excitement',\n",
        " u'bring joy',\n",
        " u'bring migranes',\n",
        " u'bring starbucks',\n",
        " u'bringing']"
       ]
      }
     ],
     "prompt_number": 148
    },
    {
     "cell_type": "code",
     "collapsed": false,
     "input": [
      "[w for w in fn if \"zebra\" in w]"
     ],
     "language": "python",
     "metadata": {},
     "outputs": [
      {
       "metadata": {},
       "output_type": "pyout",
       "prompt_number": 153,
       "text": [
        "[u'baby zebra', u'zebra', u'zebra think']"
       ]
      }
     ],
     "prompt_number": 153
    },
    {
     "cell_type": "code",
     "collapsed": false,
     "input": [
      "sw = tweets_vectorizer.stop_words_\n",
      "print sw"
     ],
     "language": "python",
     "metadata": {},
     "outputs": [
      {
       "output_type": "stream",
       "stream": "stdout",
       "text": [
        "set([])\n"
       ]
      }
     ],
     "prompt_number": 121
    },
    {
     "cell_type": "code",
     "collapsed": false,
     "input": [
      "v = tweets_vectorizer.vocabulary_\n",
      "[w for w in v if \"zebra\" in w]"
     ],
     "language": "python",
     "metadata": {},
     "outputs": [
      {
       "metadata": {},
       "output_type": "pyout",
       "prompt_number": 154,
       "text": [
        "[u'zebra think', u'baby zebra', u'zebra']"
       ]
      }
     ],
     "prompt_number": 154
    },
    {
     "cell_type": "code",
     "collapsed": false,
     "input": [
      "# a few helper functions\n",
      "def accuracy_report(_clf, xtrain, ytrain, xtest, ytest):\n",
      "    print \"Accuracy: %0.2f%%\" % (100 * _clf.score(xtest, ytest))\n",
      "\n",
      "    #Print the accuracy on the test and training dataset\n",
      "    training_accuracy = _clf.score(xtrain, ytrain)\n",
      "    test_accuracy = _clf.score(xtest, ytest)\n",
      "\n",
      "    print \"Accuracy on training data: %0.2f\" % (training_accuracy)"
     ],
     "language": "python",
     "metadata": {},
     "outputs": [],
     "prompt_number": 85
    },
    {
     "cell_type": "code",
     "collapsed": false,
     "input": [
      "# a function to run some tests\n",
      "def analyze_review(testquote, vect, _clf):\n",
      "    print \"\\n\\n'%s' is judged by the clasifier to be...\" % (testquote)\n",
      "    testquote = vect.transform([testquote])\n",
      "    prob0 = _clf.predict_proba(testquote)[0][0]\n",
      "    prob1 = _clf.predict_proba(testquote)[0][1]\n",
      "    if (_clf.predict(testquote)[0] == 4):\n",
      "        print \"... A POSITIVE TWEET WITH PROBABILITY %02f.\" % prob1\n",
      "    else:\n",
      "        print \"... A NEGATIVE TWEET WITH PROBABILITY %02f.\" % prob0\n",
      "    return"
     ],
     "language": "python",
     "metadata": {},
     "outputs": [],
     "prompt_number": 173
    },
    {
     "cell_type": "code",
     "collapsed": false,
     "input": [
      "x = tweets_vectorizer.transform(tweets.tweet)\n",
      "#print x_transform\n",
      "print x.shape"
     ],
     "language": "python",
     "metadata": {},
     "outputs": [
      {
       "output_type": "stream",
       "stream": "stdout",
       "text": [
        "(2034, 18051)\n"
       ]
      }
     ],
     "prompt_number": 87
    },
    {
     "cell_type": "code",
     "collapsed": false,
     "input": [
      "Y = tweets.polarity.values.astype(np.int)\n",
      "print Y\n",
      "Y.shape"
     ],
     "language": "python",
     "metadata": {},
     "outputs": [
      {
       "output_type": "stream",
       "stream": "stdout",
       "text": [
        "[0 0 0 ..., 0 4 4]\n"
       ]
      },
      {
       "metadata": {},
       "output_type": "pyout",
       "prompt_number": 88,
       "text": [
        "(2034,)"
       ]
      }
     ],
     "prompt_number": 88
    },
    {
     "cell_type": "code",
     "collapsed": false,
     "input": [
      "#This statement transforms the 0, 4 class labels to 0 and 1\n",
      "#YOU DO NOT NEED TO DO THIS!\n",
      "#Y = (tweets.polarity == 4).values.astype(np.int)\n",
      "#print Y\n",
      "#Y.shape"
     ],
     "language": "python",
     "metadata": {},
     "outputs": [],
     "prompt_number": 89
    },
    {
     "cell_type": "code",
     "collapsed": false,
     "input": [
      "xtrain, xtest, ytrain, ytest = train_test_split(x, Y)\n",
      "print xtrain.shape\n",
      "print ytrain.shape\n",
      "print xtest.shape\n",
      "print ytest.shape"
     ],
     "language": "python",
     "metadata": {},
     "outputs": [
      {
       "output_type": "stream",
       "stream": "stdout",
       "text": [
        "(1525, 18051)\n",
        "(1525,)\n",
        "(509, 18051)\n",
        "(509,)\n"
       ]
      }
     ],
     "prompt_number": 90
    },
    {
     "cell_type": "code",
     "collapsed": false,
     "input": [
      "fitmt= MultinomialNB().fit(xtrain, ytrain)\n",
      "accuracy_report(fitmt, xtrain, ytrain, xtest, ytest)"
     ],
     "language": "python",
     "metadata": {},
     "outputs": [
      {
       "output_type": "stream",
       "stream": "stdout",
       "text": [
        "Accuracy: 78.00%\n",
        "Accuracy on training data: 0.99\n"
       ]
      }
     ],
     "prompt_number": 157
    },
    {
     "cell_type": "code",
     "collapsed": false,
     "input": [
      "fitbm=BernoulliNB().fit(xtrain, ytrain)\n",
      "accuracy_report(fitbm, xtrain, ytrain, xtest, ytest)"
     ],
     "language": "python",
     "metadata": {},
     "outputs": [
      {
       "output_type": "stream",
       "stream": "stdout",
       "text": [
        "Accuracy: 68.37%\n",
        "Accuracy on training data: 0.79\n"
       ]
      }
     ],
     "prompt_number": 156
    },
    {
     "cell_type": "code",
     "collapsed": false,
     "input": [
      "fitlg=LogisticRegression().fit(xtrain, ytrain)\n",
      "accuracy_report(fitlg, xtrain, ytrain, xtest, ytest)"
     ],
     "language": "python",
     "metadata": {},
     "outputs": [
      {
       "output_type": "stream",
       "stream": "stdout",
       "text": [
        "Accuracy: 82.12%\n",
        "Accuracy on training data: 1.00\n"
       ]
      }
     ],
     "prompt_number": 155
    },
    {
     "cell_type": "code",
     "collapsed": false,
     "input": [
      "tweet1=\"@DataDAVE thanks for the awesome twitter dataset!!\"\n",
      "tweet2=\"I just don't understand lesso!??!\"\n",
      "tweet3=\"cancer awesome thanks\""
     ],
     "language": "python",
     "metadata": {},
     "outputs": [],
     "prompt_number": 174
    },
    {
     "cell_type": "code",
     "collapsed": false,
     "input": [
      "#rename tweet1 to create a new variable\n",
      "tweet1_vec = tweets_vectorizer.transform([tweet1])\n",
      "\n",
      "print fitlg.predict(tweet1_vec)[0]\n",
      "print fitlg.predict_proba(tweet1_vec)[0]"
     ],
     "language": "python",
     "metadata": {},
     "outputs": [
      {
       "output_type": "stream",
       "stream": "stdout",
       "text": [
        "4\n",
        "[ 0.14788353  0.85211647]\n"
       ]
      }
     ],
     "prompt_number": 176
    },
    {
     "cell_type": "code",
     "collapsed": false,
     "input": [
      "print 'fitlg:'\n",
      "analyze_review(tweet1, tweets_vectorizer, fitlg)\n",
      "analyze_review(tweet2, tweets_vectorizer, fitlg)\n",
      "analyze_review(tweet3, tweets_vectorizer, fitlg)"
     ],
     "language": "python",
     "metadata": {},
     "outputs": [
      {
       "output_type": "stream",
       "stream": "stdout",
       "text": [
        "fitlg:\n",
        "\n",
        "\n",
        "'@DataDAVE thanks for the awesome twitter dataset!!' is judged by the clasifier to be...\n",
        "... A POSITIVE TWEET WITH PROBABILITY 0.852116.\n",
        "\n",
        "\n",
        "'I just don't understand lesso!??!' is judged by the clasifier to be...\n",
        "... A NEGATIVE TWEET WITH PROBABILITY 0.938717.\n",
        "\n",
        "\n",
        "'cancer awesome thanks' is judged by the clasifier to be...\n",
        "... A POSITIVE TWEET WITH PROBABILITY 0.576377.\n"
       ]
      }
     ],
     "prompt_number": 177
    },
    {
     "cell_type": "code",
     "collapsed": false,
     "input": [
      "print 'multinomial'\n",
      "analyze_review(tweet1, tweets_vectorizer, fitmt)\n",
      "analyze_review(tweet2, tweets_vectorizer, fitmt)"
     ],
     "language": "python",
     "metadata": {},
     "outputs": [
      {
       "output_type": "stream",
       "stream": "stdout",
       "text": [
        "multinomial\n",
        "\n",
        "\n",
        "'@DataDAVE thanks for the awesome twitter dataset!!' is judged by the clasifier to be...\n",
        "... A POSITIVE TWEET WITH PROBABILITY 0.946860.\n",
        "\n",
        "\n",
        "'I just don't understand lesso!??!' is judged by the clasifier to be...\n",
        "... A NEGATIVE TWEET WITH PROBABILITY 0.997709.\n"
       ]
      }
     ],
     "prompt_number": 178
    },
    {
     "cell_type": "code",
     "collapsed": false,
     "input": [
      "#there is something wrong with this bernoulli model!!\n",
      "print 'bernoulli'\n",
      "analyze_review(tweet1, tweets_vectorizer, fitbm)\n",
      "analyze_review(tweet2, tweets_vectorizer, fitbm)"
     ],
     "language": "python",
     "metadata": {},
     "outputs": [
      {
       "output_type": "stream",
       "stream": "stdout",
       "text": [
        "bernoulli\n",
        "\n",
        "\n",
        "'@DataDAVE thanks for the awesome twitter dataset!!' is judged by the clasifier to be...\n",
        "... A NEGATIVE TWEET WITH PROBABILITY 1.000000.\n",
        "\n",
        "\n",
        "'I just don't understand lesso!??!' is judged by the clasifier to be...\n",
        "... A NEGATIVE TWEET WITH PROBABILITY 1.000000.\n"
       ]
      }
     ],
     "prompt_number": 179
    }
   ],
   "metadata": {}
  }
 ]
}