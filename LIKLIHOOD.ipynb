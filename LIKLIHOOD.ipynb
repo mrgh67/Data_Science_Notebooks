{
 "metadata": {
  "name": "",
  "signature": "sha256:c628e765b8f3e5e0b6b93dd2ade0704d9fe1575f5ff7e1869de646792b07db06"
 },
 "nbformat": 3,
 "nbformat_minor": 0,
 "worksheets": [
  {
   "cells": [
    {
     "cell_type": "markdown",
     "metadata": {},
     "source": [
      "#LIKLIHOOD"
     ]
    },
    {
     "cell_type": "markdown",
     "metadata": {},
     "source": [
      "##Nomenclature\n",
      "\n",
      "##i.i.d mean idependent and identically distributed"
     ]
    },
    {
     "cell_type": "markdown",
     "metadata": {},
     "source": [
      "##If we have a set of observations drawn independently from a Gaussian distribution whose mean and variance are UNKNOWN then we can estimate the parameters from the dataset."
     ]
    },
    {
     "cell_type": "markdown",
     "metadata": {},
     "source": [
      "##Since the points are independent then the marginal probability is $P(X) = P(X) \\times P(Y)$.\n",
      "\n",
      "###Noting $P(X) = P(Y|X) \\times P(X)$. Where $X$ and $Y$ are independent $P(Y|X)=P(Y)$. Because $Y$ is independent (has no dependency on) $X$."
     ]
    },
    {
     "cell_type": "markdown",
     "metadata": {},
     "source": [
      "##$P(\\mathbf{x}|\\mu, \\sigma^{2}) = \\prod^{N}_{n=1}\\mathcal{N}(x_{n}|/mu,\\sigma^{2})$"
     ]
    },
    {
     "cell_type": "markdown",
     "metadata": {},
     "source": [
      "##This is the Liklihood Function for the Gaussian"
     ]
    },
    {
     "cell_type": "markdown",
     "metadata": {},
     "source": [
      "##Maximizing the liklihood means adjusting the mean and variance of the Gaussian so as to maximize this product."
     ]
    },
    {
     "cell_type": "markdown",
     "metadata": {},
     "source": [
      "##Maximizing the liklihood is the same as maximizing the log liklihood"
     ]
    },
    {
     "cell_type": "markdown",
     "metadata": {},
     "source": [
      "##$\\mu_{ML} = \\frac{1}{N}\\sum^{N}_{n=1}x_{n}$"
     ]
    },
    {
     "cell_type": "markdown",
     "metadata": {},
     "source": [
      "##which is the same as the sample mean"
     ]
    },
    {
     "cell_type": "markdown",
     "metadata": {},
     "source": [
      "##$\\sigma^{2}_{ML} = \\frac{1}{N}\\sum^{N}_{n=1}(x_{n} - \\mu_{ML})^2$"
     ]
    },
    {
     "cell_type": "markdown",
     "metadata": {},
     "source": [
      "##The maximum liklihood approach systematically underestimates the variance. This is an example of BIAS and is related to the problem of over-fitting"
     ]
    },
    {
     "cell_type": "markdown",
     "metadata": {},
     "source": [
      "##NB:\n",
      "\n",
      "##$\\mathbb{E}[\\mu_{ML}] = \\mu$\n",
      "\n",
      "##$\\mathbb{E}[\\sigma^{2}_{ML}] \\neq \\sigma^{2}$\n",
      "\n",
      "##$\\mathbb{E}[\\sigma^{2}_{ML}] = \\frac{N}{N-1}\\sigma^{2}$"
     ]
    },
    {
     "cell_type": "markdown",
     "metadata": {},
     "source": [
      "##On average the maximum liklihood estimator underestimates the true variance"
     ]
    },
    {
     "cell_type": "markdown",
     "metadata": {},
     "source": [
      "##An unbiased estimator is, therefore:\n",
      "\n",
      "##$\\tilde{\\sigma^{2}} = \\frac{N}{N-1}\\sigma^{2}_{ML}=\\frac{1}{N-1}\\sum^{N}_{n=1}(x_{n}-\\mu_{ML})^2$"
     ]
    },
    {
     "cell_type": "markdown",
     "metadata": {},
     "source": [
      "##The bias arises because $\\sigma^{2}_{ML}$ is calculated using the sample mean and not the true mean\n",
      "\n",
      "##The bias decreases as the number of points increases\n",
      "\n",
      "##In the $\\lim_{N \\to \\infty} \\sigma^{2}_{ML} \\approx \\sigma^{2}$"
     ]
    },
    {
     "cell_type": "markdown",
     "metadata": {},
     "source": [
      "##The Maximum Posterior or MAP solution is equivalent to minimizing the regularized sum-of-squares error function. i.e. MAP regularizes the maximum liklihood solution - it prevents the over-fitting of the maximum liklihood solution.\n",
      "\n",
      "##MAP is using the numerator of Bayes' only!!\n",
      "\n",
      "##For a fully Bayes' solution need an estimate for the denominator\n",
      "\n",
      "##ML and MAP provide only point estimates, Bayes' provides a predictive distribution"
     ]
    }
   ],
   "metadata": {}
  }
 ]
}