{
 "metadata": {
  "name": "",
  "signature": "sha256:a7b4d2c43880c1ef1a762ebf1a9a30428e857c5729a48ec0974d2b89aff92968"
 },
 "nbformat": 3,
 "nbformat_minor": 0,
 "worksheets": [
  {
   "cells": [
    {
     "cell_type": "code",
     "collapsed": false,
     "input": [
      "from IPython.display import Latex\n",
      "from IPython.display import Math"
     ],
     "language": "python",
     "metadata": {},
     "outputs": [],
     "prompt_number": 3
    },
    {
     "cell_type": "markdown",
     "metadata": {},
     "source": [
      "A neurologist is testing the effect of a drug on response time by injecting 100 rats with a unit dose of the drug, subjecting each to neurological stimulus, and recording its repsonse time. The neurologist knows that the mean response time for rats not injected with the drug is 1.2 seconds. The mean of the 100 injected rats' response times is 1.05 seconds with a sample standard deviation of 0.5 seconds. Do you think that the drug has an effect on response time?"
     ]
    },
    {
     "cell_type": "markdown",
     "metadata": {},
     "source": [
      "$H_{0}\\text{: Drug has no effect} \\implies \\mu=1.2s \\text{ even with the drug}$"
     ]
    },
    {
     "cell_type": "markdown",
     "metadata": {},
     "source": [
      "$H_{1}\\text{: Drug has an effect}\\implies \\mu \\neq 1.2s \\text{ when the drug is given}$"
     ]
    },
    {
     "cell_type": "markdown",
     "metadata": {},
     "source": [
      "$\\text{Assume }H_{0}\\text{ true - what is the probability of getting these results.}$"
     ]
    },
    {
     "cell_type": "markdown",
     "metadata": {},
     "source": [
      "Consider the sampling distribution of the sampling mean. "
     ]
    },
    {
     "cell_type": "markdown",
     "metadata": {},
     "source": [
      "$\\text{Has }\\mu_\\overline{x} = \\mu = 1.2s$"
     ]
    },
    {
     "cell_type": "markdown",
     "metadata": {},
     "source": [
      "$\\sigma_{\\overline{x}} = \\frac{\\sigma}{\\sqrt{N}}\\approx \\frac{s}{\\sqrt{N}}=\\frac{s}{\\sqrt{100}}=\\frac{0.5}{10}=0.05=\\hat{\\sigma_{\\overline{x}}}$"
     ]
    },
    {
     "cell_type": "markdown",
     "metadata": {},
     "source": [
      "How many standard deviations is 1.05 seconds away from this mean?"
     ]
    },
    {
     "cell_type": "markdown",
     "metadata": {},
     "source": [
      "$Z=\\frac{1.2-1.05}{0.05}=3$"
     ]
    },
    {
     "cell_type": "markdown",
     "metadata": {},
     "source": [
      "3 standard deviations from the mean"
     ]
    },
    {
     "cell_type": "markdown",
     "metadata": {},
     "source": [
      "99.7% of the data falls within 3 standard deviations of the mean"
     ]
    },
    {
     "cell_type": "markdown",
     "metadata": {},
     "source": [
      "The tails combined are, therefore, 0.3%, or 0.003"
     ]
    },
    {
     "cell_type": "markdown",
     "metadata": {},
     "source": [
      "If null hypothesis is true there is less than a 1 in 300 chance that this occurred by chance, therefore we favor the alternative hypothesis"
     ]
    },
    {
     "cell_type": "markdown",
     "metadata": {},
     "source": [
      "p-value is 0.003"
     ]
    },
    {
     "cell_type": "markdown",
     "metadata": {},
     "source": [
      "The above is a TWO-TAILED test"
     ]
    },
    {
     "cell_type": "markdown",
     "metadata": {},
     "source": [
      "A ONE-TAILED test would be:"
     ]
    },
    {
     "cell_type": "markdown",
     "metadata": {},
     "source": [
      "$H_{0}\\text{: Drug has no effect} \\implies \\mu=1.2s \\text{ even with the drug}$"
     ]
    },
    {
     "cell_type": "markdown",
     "metadata": {},
     "source": [
      "$H_{1}\\text{: Drug lowers repsonse time}\\implies \\mu \\lt 1.2s \\text{ when the drug is given}$"
     ]
    },
    {
     "cell_type": "markdown",
     "metadata": {},
     "source": [
      "if H0 is true, probability of getting a result lower than 1.05 seconds, is 0.15%, oe 0.0015"
     ]
    },
    {
     "cell_type": "markdown",
     "metadata": {},
     "source": [
      "TYPE I ERROR - reject the null hypothesis even though it is true."
     ]
    },
    {
     "cell_type": "markdown",
     "metadata": {},
     "source": [
      "p-value represents the probability of making a Type I error."
     ]
    },
    {
     "cell_type": "markdown",
     "metadata": {},
     "source": [
      "Z-STATISTIC vs T-STATISTIC"
     ]
    },
    {
     "cell_type": "markdown",
     "metadata": {},
     "source": [
      "###Z-STATISTIC:"
     ]
    },
    {
     "cell_type": "markdown",
     "metadata": {},
     "source": [
      "##$\\frac{\\overline{x}-\\mu_{\\overline{x}}}{\\sigma_{\\overline{x}}}$"
     ]
    },
    {
     "cell_type": "markdown",
     "metadata": {},
     "source": [
      "##$\\sigma_{\\overline{x}}=\\frac{\\sigma}{\\sqrt{N}}$"
     ]
    },
    {
     "cell_type": "markdown",
     "metadata": {},
     "source": [
      "##$Z=\\frac{\\overline{x}-\\mu_{\\overline{x}}}{\\frac{\\sigma}{\\sqrt{N}}}\\approx \\frac{\\overline{x}-\\mu_{\\overline{x}}}{\\frac{s}{\\sqrt{N}}} \\text{ if } N\\gt30$"
     ]
    },
    {
     "cell_type": "markdown",
     "metadata": {},
     "source": [
      "Z is normally distributed"
     ]
    },
    {
     "cell_type": "markdown",
     "metadata": {},
     "source": [
      "###T-STATISTIC:"
     ]
    },
    {
     "cell_type": "markdown",
     "metadata": {},
     "source": [
      "##$T=\\frac{\\overline{x}-\\mu_{\\overline{x}}}{\\frac{\\sigma}{\\sqrt{N}}}\\approx \\frac{\\overline{x}-\\mu_{\\overline{x}}}{\\frac{s}{\\sqrt{N}}} \\text{ if } N\\leq 30$"
     ]
    },
    {
     "cell_type": "markdown",
     "metadata": {},
     "source": [
      "T is not normally distributed but subject to the t-distribution"
     ]
    }
   ],
   "metadata": {}
  }
 ]
}