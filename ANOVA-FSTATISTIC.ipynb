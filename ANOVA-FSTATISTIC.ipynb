{
 "metadata": {
  "name": "",
  "signature": "sha256:d620d8967bd2ce77bccb5cf0edc1e8d5977847d6bbba7aeaf1dea4516340d723"
 },
 "nbformat": 3,
 "nbformat_minor": 0,
 "worksheets": [
  {
   "cells": [
    {
     "cell_type": "markdown",
     "metadata": {},
     "source": [
      "#ANOVA"
     ]
    },
    {
     "cell_type": "code",
     "collapsed": false,
     "input": [
      "import numpy as np\n",
      "from scipy.stats import f"
     ],
     "language": "python",
     "metadata": {},
     "outputs": [],
     "prompt_number": 44
    },
    {
     "cell_type": "code",
     "collapsed": false,
     "input": [
      "a = np.array([3,2,1])\n",
      "b = np.array([5,4,3])\n",
      "c = np.array([5,6,7])"
     ],
     "language": "python",
     "metadata": {},
     "outputs": [],
     "prompt_number": 7
    },
    {
     "cell_type": "code",
     "collapsed": false,
     "input": [
      "print a, b, c"
     ],
     "language": "python",
     "metadata": {},
     "outputs": [
      {
       "output_type": "stream",
       "stream": "stdout",
       "text": [
        "[3 2 1] [5 4 3] [5 6 7]\n"
       ]
      }
     ],
     "prompt_number": 8
    },
    {
     "cell_type": "code",
     "collapsed": false,
     "input": [
      "grandMean = a.sum() + b.sum() + c.sum()"
     ],
     "language": "python",
     "metadata": {},
     "outputs": [],
     "prompt_number": 10
    },
    {
     "cell_type": "code",
     "collapsed": false,
     "input": [
      "grandMean /= float(len(a) + len(b) + len(c))"
     ],
     "language": "python",
     "metadata": {},
     "outputs": [],
     "prompt_number": 11
    },
    {
     "cell_type": "code",
     "collapsed": false,
     "input": [
      "print grandMean"
     ],
     "language": "python",
     "metadata": {},
     "outputs": [
      {
       "output_type": "stream",
       "stream": "stdout",
       "text": [
        "4.0\n"
       ]
      }
     ],
     "prompt_number": 12
    },
    {
     "cell_type": "code",
     "collapsed": false,
     "input": [
      "meanOfTheMeans = (a.mean() + b.mean() + c.mean() ) / 3."
     ],
     "language": "python",
     "metadata": {},
     "outputs": [],
     "prompt_number": 13
    },
    {
     "cell_type": "code",
     "collapsed": false,
     "input": [
      "print meanOfTheMeans"
     ],
     "language": "python",
     "metadata": {},
     "outputs": [
      {
       "output_type": "stream",
       "stream": "stdout",
       "text": [
        "4.0\n"
       ]
      }
     ],
     "prompt_number": 14
    },
    {
     "cell_type": "code",
     "collapsed": false,
     "input": [
      "def cSST(x, mean):\n",
      "    sum = 0.0\n",
      "    for i in range(len(x)):\n",
      "        sum += (x[i] - mean) * (x[i] - mean)\n",
      "    return sum"
     ],
     "language": "python",
     "metadata": {},
     "outputs": [],
     "prompt_number": 15
    },
    {
     "cell_type": "markdown",
     "metadata": {},
     "source": [
      "###SST = sum of squares total"
     ]
    },
    {
     "cell_type": "code",
     "collapsed": false,
     "input": [
      "SST = cSST(a, grandMean) + cSST(b, grandMean) + cSST(c, grandMean)"
     ],
     "language": "python",
     "metadata": {},
     "outputs": [],
     "prompt_number": 16
    },
    {
     "cell_type": "code",
     "collapsed": false,
     "input": [
      "print SST"
     ],
     "language": "python",
     "metadata": {},
     "outputs": [
      {
       "output_type": "stream",
       "stream": "stdout",
       "text": [
        "30.0\n"
       ]
      }
     ],
     "prompt_number": 17
    },
    {
     "cell_type": "code",
     "collapsed": false,
     "input": [
      "SSTdOfFreedom = len(a) + len(b) + len(c) - 1"
     ],
     "language": "python",
     "metadata": {},
     "outputs": [],
     "prompt_number": 25
    },
    {
     "cell_type": "code",
     "collapsed": false,
     "input": [
      "print SSTdOfFreedom"
     ],
     "language": "python",
     "metadata": {},
     "outputs": [
      {
       "output_type": "stream",
       "stream": "stdout",
       "text": [
        "8\n"
       ]
      }
     ],
     "prompt_number": 26
    },
    {
     "cell_type": "markdown",
     "metadata": {},
     "source": [
      "##Variation within the groups as opposed variation between the groups - to account for the total Sum of Squares"
     ]
    },
    {
     "cell_type": "markdown",
     "metadata": {},
     "source": [
      "##SSW = sum of squares within"
     ]
    },
    {
     "cell_type": "code",
     "collapsed": false,
     "input": [
      "SSW = cSST(a, a.mean()) + cSST(b, b.mean()) + cSST(c, c.mean())"
     ],
     "language": "python",
     "metadata": {},
     "outputs": [],
     "prompt_number": 23
    },
    {
     "cell_type": "code",
     "collapsed": false,
     "input": [
      "print SSW"
     ],
     "language": "python",
     "metadata": {},
     "outputs": [
      {
       "output_type": "stream",
       "stream": "stdout",
       "text": [
        "6.0\n"
       ]
      }
     ],
     "prompt_number": 24
    },
    {
     "cell_type": "markdown",
     "metadata": {},
     "source": [
      "## 6 of the total variation of 30 arises from within the groups"
     ]
    },
    {
     "cell_type": "code",
     "collapsed": false,
     "input": [
      "SSWdOfFreedom = len(a) - 1 + len(b) - 1 + len(c) - 1"
     ],
     "language": "python",
     "metadata": {},
     "outputs": [],
     "prompt_number": 27
    },
    {
     "cell_type": "code",
     "collapsed": false,
     "input": [
      "print SSWdOfFreedom"
     ],
     "language": "python",
     "metadata": {},
     "outputs": [
      {
       "output_type": "stream",
       "stream": "stdout",
       "text": [
        "6\n"
       ]
      }
     ],
     "prompt_number": 28
    },
    {
     "cell_type": "markdown",
     "metadata": {},
     "source": [
      "##SSB = sum of squares between"
     ]
    },
    {
     "cell_type": "code",
     "collapsed": false,
     "input": [
      "SSB = (a.mean() - meanOfTheMeans) * (a.mean() - meanOfTheMeans) * len(a)"
     ],
     "language": "python",
     "metadata": {},
     "outputs": [],
     "prompt_number": 34
    },
    {
     "cell_type": "code",
     "collapsed": false,
     "input": [
      "SSB += (b.mean() - meanOfTheMeans) * (b.mean() - meanOfTheMeans) * len(b)"
     ],
     "language": "python",
     "metadata": {},
     "outputs": [],
     "prompt_number": 35
    },
    {
     "cell_type": "code",
     "collapsed": false,
     "input": [
      "SSB += (c.mean() - meanOfTheMeans) * (c.mean() - meanOfTheMeans) * len(c)"
     ],
     "language": "python",
     "metadata": {},
     "outputs": [],
     "prompt_number": 36
    },
    {
     "cell_type": "code",
     "collapsed": false,
     "input": [
      "print SSB"
     ],
     "language": "python",
     "metadata": {},
     "outputs": [
      {
       "output_type": "stream",
       "stream": "stdout",
       "text": [
        "24.0\n"
       ]
      }
     ],
     "prompt_number": 37
    },
    {
     "cell_type": "code",
     "collapsed": false,
     "input": [
      "SSBdOfFreedom = 2"
     ],
     "language": "python",
     "metadata": {},
     "outputs": [],
     "prompt_number": 38
    },
    {
     "cell_type": "markdown",
     "metadata": {},
     "source": [
      "##24 of the total variation of 30 arises between the groups"
     ]
    },
    {
     "cell_type": "markdown",
     "metadata": {},
     "source": [
      "##NB: the degrees of freedom also sum  = 2 + 6 = 8"
     ]
    },
    {
     "cell_type": "markdown",
     "metadata": {},
     "source": [
      "##$H_{0}:\\mu_{a} = \\mu_{b} = \\mu_{c}$\n",
      "\n",
      "##$H_{1}:\\mu_{a} \\neq \\mu_{b} \\neq \\mu_{c}$"
     ]
    },
    {
     "cell_type": "markdown",
     "metadata": {},
     "source": [
      "##F statistic (having an F distribution)"
     ]
    },
    {
     "cell_type": "markdown",
     "metadata": {},
     "source": [
      "##F Distribution is the ratio of two $\\chi^{2}$ distributions that may or may not have differing degrees of freedon"
     ]
    },
    {
     "cell_type": "markdown",
     "metadata": {},
     "source": [
      "##$F-statistic = \\frac{\\frac{SSB}{SSBdof}}{\\frac{SSW}{SSWdof}}$"
     ]
    },
    {
     "cell_type": "markdown",
     "metadata": {},
     "source": [
      "##Large numerator - indicates that the means are different between the samples"
     ]
    },
    {
     "cell_type": "code",
     "collapsed": false,
     "input": [
      "fStatistic = (SSB/SSBdOfFreedom)/(SSW/SSWdOfFreedom)"
     ],
     "language": "python",
     "metadata": {},
     "outputs": [],
     "prompt_number": 41
    },
    {
     "cell_type": "code",
     "collapsed": false,
     "input": [
      "print fStatistic"
     ],
     "language": "python",
     "metadata": {},
     "outputs": [
      {
       "output_type": "stream",
       "stream": "stdout",
       "text": [
        "12.0\n"
       ]
      }
     ],
     "prompt_number": 42
    },
    {
     "cell_type": "code",
     "collapsed": false,
     "input": [
      "alpha = 0.10"
     ],
     "language": "python",
     "metadata": {},
     "outputs": [],
     "prompt_number": 59
    },
    {
     "cell_type": "code",
     "collapsed": false,
     "input": [
      "print SSBdOfFreedom, SSWdOfFreedom"
     ],
     "language": "python",
     "metadata": {},
     "outputs": [
      {
       "output_type": "stream",
       "stream": "stdout",
       "text": [
        "2 6\n"
       ]
      }
     ],
     "prompt_number": 67
    },
    {
     "cell_type": "markdown",
     "metadata": {},
     "source": [
      "##From Khan - critical F-value is 3.46"
     ]
    },
    {
     "cell_type": "markdown",
     "metadata": {},
     "source": [
      "##12 >>> 3.46 therefore reject $H_{0}$"
     ]
    },
    {
     "cell_type": "code",
     "collapsed": false,
     "input": [
      "res = f.ppf(alpha, SSBdOfFreedom, SSWdOfFreedom)"
     ],
     "language": "python",
     "metadata": {},
     "outputs": [],
     "prompt_number": 85
    },
    {
     "cell_type": "code",
     "collapsed": false,
     "input": [
      "print res"
     ],
     "language": "python",
     "metadata": {},
     "outputs": [
      {
       "output_type": "stream",
       "stream": "stdout",
       "text": [
        "0.107232505954\n"
       ]
      }
     ],
     "prompt_number": 86
    },
    {
     "cell_type": "code",
     "collapsed": false,
     "input": [
      "pValue = f.cdf(fStatistic, SSBdOfFreedom, SSWdOfFreedom)"
     ],
     "language": "python",
     "metadata": {},
     "outputs": [],
     "prompt_number": 77
    },
    {
     "cell_type": "code",
     "collapsed": false,
     "input": [
      "print pValue"
     ],
     "language": "python",
     "metadata": {},
     "outputs": [
      {
       "output_type": "stream",
       "stream": "stdout",
       "text": [
        "0.992\n"
       ]
      }
     ],
     "prompt_number": 78
    },
    {
     "cell_type": "code",
     "collapsed": false,
     "input": [
      "res = f.cdf(0.107232505954, SSBdOfFreedom, SSWdOfFreedom)"
     ],
     "language": "python",
     "metadata": {},
     "outputs": [],
     "prompt_number": 89
    },
    {
     "cell_type": "code",
     "collapsed": false,
     "input": [
      "print res"
     ],
     "language": "python",
     "metadata": {},
     "outputs": [
      {
       "output_type": "stream",
       "stream": "stdout",
       "text": [
        "0.1\n"
       ]
      }
     ],
     "prompt_number": 90
    }
   ],
   "metadata": {}
  }
 ]
}