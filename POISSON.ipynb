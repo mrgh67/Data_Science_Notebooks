{
 "metadata": {
  "name": "",
  "signature": "sha256:d625ec98f1e8b69419709113864b01e4609ad843dfeb6c8bc77497ed964e3779"
 },
 "nbformat": 3,
 "nbformat_minor": 0,
 "worksheets": [
  {
   "cells": [
    {
     "cell_type": "code",
     "collapsed": false,
     "input": [
      "from scipy.stats import poisson\n",
      "import numpy as np\n",
      "import matplotlib.pyplot as plt\n",
      "%matplotlib inline"
     ],
     "language": "python",
     "metadata": {},
     "outputs": [],
     "prompt_number": 3
    },
    {
     "cell_type": "markdown",
     "metadata": {},
     "source": [
      "#POISSON"
     ]
    },
    {
     "cell_type": "markdown",
     "metadata": {},
     "source": [
      "###Think of many events occurring over an interval of time\n",
      "\n",
      "###Divide the interval into a many subintervals of equal length\n",
      "\n",
      "###The subintervals are so small that the probability of more than one event occurring in 1 subinterval is negligible compared with the probability of one event occurring in the subinterval, which itself is very small\n",
      "\n",
      "###The probability of an event in each subinterval is the same\n",
      "\n",
      "###Whether or not an event occurs in one subinterval is independent of what happens in other subintervals\n",
      "\n",
      "###Events do not happen simultaneously\n",
      "\n",
      "###An interval of time may be replaced by an area or a volume"
     ]
    },
    {
     "cell_type": "markdown",
     "metadata": {},
     "source": [
      "###Poisson Frequency Function:"
     ]
    },
    {
     "cell_type": "markdown",
     "metadata": {},
     "source": [
      "###$P(X=k) = \\frac{\\lambda^{k}}{k!}e^{-\\lambda}$, where $\\lambda \\gt 0$, and $k=0,1,2...$"
     ]
    },
    {
     "cell_type": "markdown",
     "metadata": {},
     "source": [
      "###$\\sum^{\\infty}_{k=0} \\frac{\\lambda^{k}}{k!}e^{-\\lambda} = 1$"
     ]
    },
    {
     "cell_type": "markdown",
     "metadata": {},
     "source": [
      "###The Poisson Distribution is derived as the limit of the Binomial Distribution as the number of trials, $n$, approaches infinity and the probability of success on each trial, $p$, approaches $0$, such that $np = \\lambda$."
     ]
    },
    {
     "cell_type": "markdown",
     "metadata": {},
     "source": [
      "###The Binomial Frequency Function is:"
     ]
    },
    {
     "cell_type": "markdown",
     "metadata": {},
     "source": [
      "###$p(k) = \\frac{n!}{k!(n-1)!}p^{k}(1-p)^{n-k}$"
     ]
    },
    {
     "cell_type": "markdown",
     "metadata": {},
     "source": [
      "###setting $np = \\lambda$ and taking the limit as $n \\rightarrow \\infty$ results in the Poisson Distribution:"
     ]
    },
    {
     "cell_type": "markdown",
     "metadata": {},
     "source": [
      "###$p(k) = \\frac{\\lambda^{k}e^{-\\lambda}}{k!}$"
     ]
    },
    {
     "cell_type": "code",
     "collapsed": false,
     "input": [
      "lam = 0.1\n",
      "mean, var = poisson.stats(lam, moments=\"mv\")\n",
      "print \"the mean is \", mean\n",
      "print \"the variance is \", var"
     ],
     "language": "python",
     "metadata": {},
     "outputs": [
      {
       "output_type": "stream",
       "stream": "stdout",
       "text": [
        "the mean is  0.1\n",
        "the variance is  0.1\n"
       ]
      }
     ],
     "prompt_number": 4
    },
    {
     "cell_type": "code",
     "collapsed": false,
     "input": [
      "fig = plt.figure(1, figsize=(12,10))\n",
      "ax1 = plt.subplot(221)\n",
      "ax2 = plt.subplot(222)\n",
      "ax3 = plt.subplot(223)\n",
      "ax4 = plt.subplot(224)\n",
      "plt.subplots_adjust(left=0.00, right=1, wspace=0.5, hspace=0.5)\n",
      "\n",
      "x=np.arange(0,6)\n",
      "print x\n",
      "\n",
      "\n",
      "lam = 0.1\n",
      "ax1.plot(x, poisson.pmf(x, lam), 'bo', ms=8, label='poisson pmf')\n",
      "ax1.vlines(x, 0, poisson.pmf(x, lam), colors='b', lw=8, alpha=1.0)\n",
      "ax1.set_xlim([-2,7])\n",
      "ax1.set_ylim([0,1])\n",
      "\n",
      "lam = 1.0\n",
      "ax2.plot(x, poisson.pmf(x, lam), 'bo', ms=8, label='poisson pmf')\n",
      "ax2.vlines(x, 0, poisson.pmf(x, lam), colors='b', lw=8, alpha=1.0)\n",
      "ax2.set_xlim([-2,7])\n",
      "ax2.set_ylim([0,1])\n",
      "\n",
      "x=np.arange(0,20)\n",
      "lam = 5.0\n",
      "ax3.plot(x, poisson.pmf(x, lam), 'bo', ms=8, label='poisson pmf')\n",
      "ax3.vlines(x, 0, poisson.pmf(x, lam), colors='b', lw=8, alpha=1.0)\n",
      "ax3.set_xlim([-2,20])\n",
      "ax3.set_ylim([0, 0.2])\n",
      "\n",
      "x=np.arange(0,20)\n",
      "lam = 10\n",
      "ax4.plot(x, poisson.pmf(x, lam), 'bo', ms=8, label='poisson pmf')\n",
      "ax4.vlines(x, 0, poisson.pmf(x, lam), colors='b', lw=8, alpha=1.0)\n",
      "ax4.set_xlim([-2,20])\n",
      "ax4.set_ylim([0, 0.14])\n",
      "\n",
      "plt.show()"
     ],
     "language": "python",
     "metadata": {},
     "outputs": [
      {
       "output_type": "stream",
       "stream": "stdout",
       "text": [
        "[0 1 2 3 4 5]\n"
       ]
      },
      {
       "metadata": {},
       "output_type": "display_data",
       "png": "[encoded data removed]",
       "text": [
        "<matplotlib.figure.Figure at 0x10bb6d9d0>"
       ]
      }
     ],
     "prompt_number": 31
    }
   ],
   "metadata": {}
  }
 ]
}