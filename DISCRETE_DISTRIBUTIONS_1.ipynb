{
 "metadata": {
  "name": "",
  "signature": "sha256:68d3118410612651b2aa22afd5eed55e2349063388adda629a83fd61456dc3b1"
 },
 "nbformat": 3,
 "nbformat_minor": 0,
 "worksheets": [
  {
   "cells": [
    {
     "cell_type": "markdown",
     "metadata": {},
     "source": [
      "#Bernoulli Distribution"
     ]
    },
    {
     "cell_type": "markdown",
     "metadata": {},
     "source": [
      "Modelling the probability distribution, p(x), of a random variable x, given a finite set of observations: x1, x2, x3, ..., xN is known as DENSITY ESTIMATION."
     ]
    },
    {
     "cell_type": "markdown",
     "metadata": {},
     "source": [
      "Parameteric distributions: need to determine parameters given the observed data set. Frequentist approach: optimise a liklihood function. Bayesian approah: calculate posterior distribution given the observed data."
     ]
    },
    {
     "cell_type": "markdown",
     "metadata": {},
     "source": [
      "Discrete Random Variables"
     ]
    },
    {
     "cell_type": "markdown",
     "metadata": {},
     "source": [
      "Binary Variables"
     ]
    },
    {
     "cell_type": "markdown",
     "metadata": {},
     "source": [
      "$\n",
      "\\begin{align} \\text{Single binary random variable }\\\\ x \\in \\{0,1\\}. \\\\ \\text{The probability that }x=1\\text{ is given by the parameter }\\mu\\\\p(x=1|\\mu) = \\mu.  \\\\ p(x=0|\\mu) = 1 - \\mu; \\\\ 0<=\\mu<=1. \\\\\\end{align}\n",
      "$"
     ]
    },
    {
     "cell_type": "markdown",
     "metadata": {},
     "source": [
      "Probability Distribution over x is the Bernoulli Distribution"
     ]
    },
    {
     "cell_type": "markdown",
     "metadata": {},
     "source": [
      "$\n",
      "\\begin{align}\n",
      "Bern(x|\\mu) = \\mu^x (1-u)^{1-x} \\\\\n",
      "mean = \\mu \\\\\n",
      "var = \\mu(1-\\mu) \\\\\n",
      "\\end{align}\n",
      "$"
     ]
    },
    {
     "cell_type": "code",
     "collapsed": false,
     "input": [
      "mu=0.6\n",
      "N=10\n",
      "D = bernoulli.rvs(mu, size=N)\n",
      "print D"
     ],
     "language": "python",
     "metadata": {},
     "outputs": [
      {
       "output_type": "stream",
       "stream": "stdout",
       "text": [
        "[0 0 1 0 0 0 1 0 1 1]\n"
       ]
      }
     ],
     "prompt_number": 136
    },
    {
     "cell_type": "markdown",
     "metadata": {},
     "source": [
      "D contains a set of observed values of the random variable x\n",
      "If we assume that these observed observations are drawn independently from p(x|mu), then we can construct a liklihood function that is dependent upon the parameter mu."
     ]
    },
    {
     "cell_type": "code",
     "collapsed": false,
     "input": [
      "def Bern_Liklihood(mu):\n",
      "    product = 0.0;\n",
      "    for i in range(10):\n",
      "        #print D[i]\n",
      "        if i == 0:\n",
      "            if D[i] == 1:\n",
      "                 product = mu\n",
      "            else:\n",
      "                product = (1.0 - mu)\n",
      "        else:\n",
      "            if D[i] == 1:\n",
      "                 product = product * mu\n",
      "            else:\n",
      "                product = product * (1.0 - mu)\n",
      "    return product"
     ],
     "language": "python",
     "metadata": {},
     "outputs": [],
     "prompt_number": 140
    },
    {
     "cell_type": "code",
     "collapsed": false,
     "input": [
      "def drange(start, stop, step):\n",
      "    r = start\n",
      "    while r < stop:\n",
      "        yield r\n",
      "        r += step\n",
      "\n",
      "i0=drange(0.1, 0.9, 0.1)\n",
      "#[\"%g\" % x for x in i0]"
     ],
     "language": "python",
     "metadata": {},
     "outputs": [],
     "prompt_number": 184
    },
    {
     "cell_type": "code",
     "collapsed": false,
     "input": [
      "#print i0\n",
      "for i in i0:\n",
      "    print \"i is %g, Liklihood is %g\" % (i, Bern_Liklihood(i))"
     ],
     "language": "python",
     "metadata": {},
     "outputs": [
      {
       "output_type": "stream",
       "stream": "stdout",
       "text": [
        "i is 0.1, Liklihood is 5.31441e-05\n",
        "i is 0.2, Liklihood is 0.00041943\n",
        "i is 0.3, Liklihood is 0.000952957\n",
        "i is 0.4, Liklihood is 0.00119439\n",
        "i is 0.5, Liklihood is 0.000976562\n",
        "i is 0.6, Liklihood is 0.000530842\n",
        "i is 0.7, Liklihood is 0.000175033\n",
        "i is 0.8, Liklihood is 2.62144e-05\n",
        "i is 0.9, Liklihood is 6.561e-07\n"
       ]
      }
     ],
     "prompt_number": 185
    },
    {
     "cell_type": "code",
     "collapsed": false,
     "input": [
      "muML = D.sum()/float(N)\n",
      "print muML"
     ],
     "language": "python",
     "metadata": {},
     "outputs": [
      {
       "output_type": "stream",
       "stream": "stdout",
       "text": [
        "0.4\n"
       ]
      }
     ],
     "prompt_number": 186
    },
    {
     "cell_type": "markdown",
     "metadata": {},
     "source": [
      "The maxiumum liklihood estimator is the number of 1s in the dataset divided by the total number of observations in the dataset"
     ]
    },
    {
     "cell_type": "code",
     "collapsed": false,
     "input": [
      "from scipy.stats import bernoulli\n",
      "from scipy.stats import binom\n",
      "import numpy as np\n",
      "import matplotlib.pyplot as plt\n",
      "%matplotlib inline"
     ],
     "language": "python",
     "metadata": {},
     "outputs": [],
     "prompt_number": 17
    },
    {
     "cell_type": "code",
     "collapsed": false,
     "input": [
      "mu = 0.6\n",
      "mean, var = bernoulli.stats(mu, moments=\"mv\")\n",
      "print \"the mean is \", mean\n",
      "print \"the variance is \", var"
     ],
     "language": "python",
     "metadata": {},
     "outputs": [
      {
       "output_type": "stream",
       "stream": "stdout",
       "text": [
        "the mean is  0.6\n",
        "the variance is  0.24\n"
       ]
      }
     ],
     "prompt_number": 104
    },
    {
     "cell_type": "code",
     "collapsed": false,
     "input": [
      "fig, ax = plt.subplots(1, 1)\n",
      "print bernoulli.ppf(0.01,x)\n",
      "print bernoulli.ppf(0.99,x)\n",
      "x=np.arange(0,2)\n",
      "print x\n",
      "mu = 0.6\n",
      "ax.plot(x, bernoulli.pmf(x, mu), 'bo', ms=8, label='bernoulli pmf')\n",
      "ax.vlines(x, 0, bernoulli.pmf(x, mu), colors='b', lw=8, alpha=1.0)\n",
      "plt.xlim(-1,2)\n",
      "plt.ylim(0,1)\n",
      "plt.show()"
     ],
     "language": "python",
     "metadata": {},
     "outputs": [
      {
       "output_type": "stream",
       "stream": "stdout",
       "text": [
        "[ 0.  1.]\n",
        "[ 0.  1.]\n",
        "[0 1]\n"
       ]
      },
      {
       "metadata": {},
       "output_type": "display_data",
       "png": "[encoded data removed]",
       "text": [
        "<matplotlib.figure.Figure at 0x10b471a10>"
       ]
      }
     ],
     "prompt_number": 204
    },
    {
     "cell_type": "markdown",
     "metadata": {},
     "source": [
      "####Generate random variables:"
     ]
    },
    {
     "cell_type": "code",
     "collapsed": false,
     "input": [
      "r = bernoulli.rvs(p, size=100)\n",
      "print r\n",
      "r.sum()"
     ],
     "language": "python",
     "metadata": {},
     "outputs": [
      {
       "output_type": "stream",
       "stream": "stdout",
       "text": [
        "[0 1 1 0 0 1 1 1 1 1 1 1 1 1 1 1 0 1 0 0 1 0 1 1 1 0 1 0 0 1 1 0 1 1 0 1 1\n",
        " 1 1 1 0 1 1 0 0 0 1 1 1 0 1 1 0 1 0 0 1 1 0 1 1 1 1 0 1 0 1 1 0 0 1 0 0 1\n",
        " 0 0 1 1 1 0 1 0 0 1 0 1 1 1 1 0 1 0 0 0 0 1 1 1 1 0]\n"
       ]
      },
      {
       "metadata": {},
       "output_type": "pyout",
       "prompt_number": 207,
       "text": [
        "61"
       ]
      }
     ],
     "prompt_number": 207
    },
    {
     "cell_type": "markdown",
     "metadata": {},
     "source": [
      "##A bit about confidence intervals"
     ]
    },
    {
     "cell_type": "code",
     "collapsed": false,
     "input": [
      "from IPython.display import Math"
     ],
     "language": "python",
     "metadata": {},
     "outputs": [],
     "prompt_number": 2
    },
    {
     "cell_type": "markdown",
     "metadata": {},
     "source": [
      "$\\text{Population mean is }\\mu$"
     ]
    },
    {
     "cell_type": "markdown",
     "metadata": {},
     "source": [
      "$\\text{Population standard deviation is }\\sigma$"
     ]
    },
    {
     "cell_type": "markdown",
     "metadata": {},
     "source": [
      "Randomly survey 100 people: 57 vote for 0, 43 vote for 1"
     ]
    },
    {
     "cell_type": "markdown",
     "metadata": {},
     "source": [
      "$\\text{sample mean, }\\overline{x}=\\frac{(57 \\times 0) + (43 \\times 1)}{100.0} = 0.43$"
     ]
    },
    {
     "cell_type": "markdown",
     "metadata": {},
     "source": [
      "$\\text{sample variance, } s^{2} = \\frac{57\\times(0.0-0.43)^{2} + 43\\times(1.0-0.43)^{2}}{100.0 - 1.0}=0.248$"
     ]
    },
    {
     "cell_type": "markdown",
     "metadata": {},
     "source": [
      "$\\text{sample std dev}, s = \\sqrt{0.248} \\approx 0.5$"
     ]
    },
    {
     "cell_type": "markdown",
     "metadata": {},
     "source": [
      "Margin of Error or 95% confidence interval"
     ]
    },
    {
     "cell_type": "markdown",
     "metadata": {},
     "source": [
      "$\\text{The sampling distribution of the sampling mean has the mean } \\mu_{\\overline{x}} = \\mu \\approx \\overline{x} = 0.43$"
     ]
    },
    {
     "cell_type": "markdown",
     "metadata": {},
     "source": [
      "$\\text{The sampling distribution of the sampling mean has a std dev of }\\sigma_{\\overline{x}} = \\frac{\\sigma}{\\sqrt{N}}\\approx \\frac{s}{\\sqrt{N}} = \\frac{0.5}{\\sqrt{100.0}} = 0.05$"
     ]
    },
    {
     "cell_type": "markdown",
     "metadata": {},
     "source": [
      "$\\text{s is the best estimate of }\\sigma$"
     ]
    },
    {
     "cell_type": "markdown",
     "metadata": {},
     "source": [
      "$\\text{Find an interval such that \"reasonably\" confident that there is a } 95\\% \\text{ chance that the true mean of the population} \\mu \\text{is in that interval}$"
     ]
    },
    {
     "cell_type": "markdown",
     "metadata": {},
     "source": [
      "$P(\\overline{x} \\text{ is within }2\\sigma_{\\overline{x}} \\text{ of } \\mu_{\\overline{x}}) = 95.4\\%$"
     ]
    },
    {
     "cell_type": "markdown",
     "metadata": {},
     "source": [
      "$P(\\overline{x} \\text{ is within }2\\times(0.05) \\text{ of } \\mu_{\\overline{x}}) \\approx 95.4\\%$"
     ]
    },
    {
     "cell_type": "markdown",
     "metadata": {},
     "source": [
      "$P(\\overline{x} \\text{ is within }0.1 \\text{ of } \\mu_{\\overline{x}}) \\approx 95.4\\%$"
     ]
    },
    {
     "cell_type": "markdown",
     "metadata": {},
     "source": [
      "$P(\\overline{x} \\text{ is within }0.43\\pm0.1 \\text{ of } \\mu_{\\overline{x}}) \\approx 95.4\\%$"
     ]
    },
    {
     "cell_type": "markdown",
     "metadata": {},
     "source": [
      "$95\\%\\text{ confidence interval of }0.33 \\text{ to } 0.53$"
     ]
    },
    {
     "cell_type": "markdown",
     "metadata": {},
     "source": [
      "$43\\% \\text{ will vote for candidate B, }57\\% \\text{ will vote for A, margin of error is }10\\%$"
     ]
    },
    {
     "cell_type": "markdown",
     "metadata": {},
     "source": [
      "#Binomial Distribution"
     ]
    },
    {
     "cell_type": "markdown",
     "metadata": {},
     "source": [
      "Denote the number of observations of x=1 within the dataset by m.\n",
      "The Binomial Distribution is the distribution of m given the data has a setsize of N."
     ]
    },
    {
     "cell_type": "markdown",
     "metadata": {},
     "source": [
      "$Bin(m|N,\\mu) = \\binom{N}{m}*\\mu^{m}(1-\\mu)^{N-m}$"
     ]
    },
    {
     "cell_type": "markdown",
     "metadata": {},
     "source": [
      "$\\binom{N}{m}=\\frac{N!}{(N-m)!m!}$"
     ]
    },
    {
     "cell_type": "markdown",
     "metadata": {},
     "source": [
      "$mean = N\\mu$"
     ]
    },
    {
     "cell_type": "markdown",
     "metadata": {},
     "source": [
      "$var = N\\mu(1-\\mu)$"
     ]
    },
    {
     "cell_type": "code",
     "collapsed": false,
     "input": [
      "n = 10\n",
      "p = 0.6\n",
      "mean, var = binom.stats(n, p, moments=\"mv\")\n",
      "print \"the mean is \", mean\n",
      "print \"the variance is \", var"
     ],
     "language": "python",
     "metadata": {},
     "outputs": [
      {
       "output_type": "stream",
       "stream": "stdout",
       "text": [
        "the mean is  6.0\n",
        "the variance is  2.4\n"
       ]
      }
     ],
     "prompt_number": 201
    },
    {
     "cell_type": "code",
     "collapsed": false,
     "input": [
      "mu = 0.6\n",
      "N = 10\n",
      "prob_6_success = (np.math.factorial(N)/(np.math.factorial(N-6)*np.math.factorial(6))) * pow(mu, 6)*pow((1.-mu), N-6)\n",
      "print prob_6_success\n",
      "print binom.pmf(6, N, mu)"
     ],
     "language": "python",
     "metadata": {},
     "outputs": [
      {
       "output_type": "stream",
       "stream": "stdout",
       "text": [
        "0.250822656\n",
        "0.250822656\n"
       ]
      }
     ],
     "prompt_number": 20
    },
    {
     "cell_type": "code",
     "collapsed": false,
     "input": [
      "fig, ax = plt.subplots(1, 1)\n",
      "x=np.arange(0,n+1)\n",
      "print x\n",
      "ax.plot(x, binom.pmf(x, n, p), 'bo', ms=8, label='binomial pmf')\n",
      "ax.vlines(x, 0, binom.pmf(x, n, p), colors='b', lw=8, alpha=1.0)\n",
      "plt.xlim(-1,11)\n",
      "plt.ylim(0,0.4)\n",
      "plt.show()"
     ],
     "language": "python",
     "metadata": {},
     "outputs": [
      {
       "output_type": "stream",
       "stream": "stdout",
       "text": [
        "[ 0  1  2  3  4  5  6  7  8  9 10]\n"
       ]
      },
      {
       "metadata": {},
       "output_type": "display_data",
       "png": "[encoded data removed]",
       "text": [
        "<matplotlib.figure.Figure at 0x114162950>"
       ]
      }
     ],
     "prompt_number": 206
    }
   ],
   "metadata": {}
  }
 ]
}